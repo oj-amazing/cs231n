{
 "cells": [
  {
   "cell_type": "code",
   "execution_count": 23,
   "metadata": {
    "collapsed": false
   },
   "outputs": [],
   "source": [
    "import numpy as np\n",
    "from keras.preprocessing.image import ImageDataGenerator\n",
    "from keras.models import Sequential\n",
    "from keras.layers import Dropout, Flatten, Dense\n",
    "from keras import applications\n",
    "\n",
    "# dimensions of our images.\n",
    "img_width, img_height = 150, 150\n",
    "\n",
    "top_model_weights_path = '../model/bottleneck_fc_model.h5'\n",
    "train_data_dir = '../data/Pandora18K_small_train_val_split/train'\n",
    "validation_data_dir = '../data/Pandora18K_small_train_val_split/val'\n",
    "nb_train_samples = 1447\n",
    "nb_validation_samples = 353\n",
    "epochs = 50\n",
    "batch_size = 16\n"
   ]
  },
  {
   "cell_type": "code",
   "execution_count": null,
   "metadata": {
    "collapsed": false
   },
   "outputs": [],
   "source": [
    "datagen = ImageDataGenerator(rescale=1. / 255)\n",
    "\n",
    "# build the VGG16 network\n",
    "model = applications.VGG16(include_top=False, weights='imagenet')\n",
    "\n",
    "generator = datagen.flow_from_directory(\n",
    "    train_data_dir,\n",
    "    target_size=(img_width, img_height),\n",
    "    batch_size=batch_size,\n",
    "    class_mode='categorical',\n",
    "    shuffle=False)\n",
    "bottleneck_features_train = model.predict_generator(\n",
    "    generator, (nb_train_samples // batch_size)+1)\n",
    "np.save(open('../model/bottleneck_features_train.npy', 'w'),\n",
    "        bottleneck_features_train)\n",
    "\n",
    "generator = datagen.flow_from_directory(\n",
    "    validation_data_dir,\n",
    "    target_size=(img_width, img_height),\n",
    "    batch_size=batch_size,\n",
    "    class_mode='categorical',\n",
    "    shuffle=False)\n",
    "bottleneck_features_validation = model.predict_generator(\n",
    "    generator, (nb_validation_samples // batch_size)+1)\n",
    "np.save(open('../model/bottleneck_features_validation.npy', 'w'),\n",
    "        bottleneck_features_validation)"
   ]
  },
  {
   "cell_type": "code",
   "execution_count": null,
   "metadata": {
    "collapsed": false
   },
   "outputs": [],
   "source": [
    "from keras.utils.np_utils import to_categorical\n",
    "\n",
    "train_data = np.load(open('../model/bottleneck_features_train.npy'))\n",
    "#full\n",
    "# train_labels = np.array([0]*688+[1]*563+[2]*636+[3]*662+[4]*781+[5]*666+[6]*716+[7]*937+[8]*1024+[9]*1035+[10]*777+[11]*845+[12]*566+[13]*970+[14]*854+[15]*829+[16]*831+[17]*882)\n",
    "#small\n",
    "train_labels = np.array([0]*83+[1]*83+[2]*79+[3]*85+[4]*85+[5]*82+[6]*83+[7]*73+[8]*87+[9]*75+[10]*84+[11]*79+[12]*79+[13]*77+[14]*81+[15]*71+[16]*74+[17]*87)\n",
    "train_labels = to_categorical(train_labels, num_classes=18)\n",
    "\n",
    "validation_data = np.load(open('../model/bottleneck_features_validation.npy'))\n",
    "#full\n",
    "#validation_labels = np.array([0]*159+[1]*168+[2]*166+[3]*170+[4]*209+[5]*166+[6]*179+[7]*254+[8]*233+[9]*227+[10]*238+[11]*193+[12]*145+[13]*242+[14]*217+[15]*203+[16]*218+[17]*227)\n",
    "#small\n",
    "validation_labels = np.array([0]*17+[1]*17+[2]*21+[3]*15+[4]*15+[5]*18+[6]*17+[7]*27+[8]*13+[9]*25+[10]*16+[11]*21+[12]*21+[13]*23+[14]*19+[15]*29+[16]*26+[17]*13)\n",
    "validation_labels = to_categorical(validation_labels, num_classes=18)\n",
    "\n",
    "model = Sequential()\n",
    "model.add(Flatten(input_shape=train_data.shape[1:]))\n",
    "model.add(Dropout(0.5))\n",
    "model.add(Dense(1024, activation='relu'))\n",
    "model.add(Dropout(0.5))\n",
    "model.add(Dense(18, activation='softmax'))\n",
    "\n",
    "model.compile(optimizer='rmsprop',\n",
    "              loss='categorical_crossentropy', metrics=['accuracy'])\n",
    "\n",
    "model.fit(train_data, train_labels,\n",
    "          epochs=epochs,\n",
    "          batch_size=batch_size,\n",
    "          validation_data=(validation_data, validation_labels))\n",
    "model.save_weights(top_model_weights_path,overwrite=True)"
   ]
  },
  {
   "cell_type": "code",
   "execution_count": null,
   "metadata": {
    "collapsed": true
   },
   "outputs": [],
   "source": []
  }
 ],
 "metadata": {
  "kernelspec": {
   "display_name": "Python 2",
   "language": "python",
   "name": "python2"
  },
  "language_info": {
   "codemirror_mode": {
    "name": "ipython",
    "version": 2
   },
   "file_extension": ".py",
   "mimetype": "text/x-python",
   "name": "python",
   "nbconvert_exporter": "python",
   "pygments_lexer": "ipython2",
   "version": "2.7.12"
  }
 },
 "nbformat": 4,
 "nbformat_minor": 0
}
