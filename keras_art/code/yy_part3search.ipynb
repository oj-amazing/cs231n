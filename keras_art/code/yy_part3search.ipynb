{
 "cells": [
  {
   "cell_type": "code",
   "execution_count": 1,
   "metadata": {},
   "outputs": [
    {
     "name": "stderr",
     "output_type": "stream",
     "text": [
      "Using TensorFlow backend.\n"
     ]
    }
   ],
   "source": [
    "import numpy as np\n",
    "from keras.preprocessing.image import ImageDataGenerator\n",
    "from keras.models import Sequential\n",
    "from keras.layers import Dropout, Flatten, Dense,Input\n",
    "from keras import applications\n",
    "from keras.models import Model\n",
    "\n",
    "# dimensions of our images.\n",
    "# img_width, img_height = 224, 224\n",
    "img_width, img_height = 500, 500\n",
    "\n",
    "pretrained_model = \"inceptionv3_500\"\n",
    "weight_folder = \"part_3_weights\"\n",
    "\n",
    "\n",
    "# top_model_weights_path = '../model/bottleneck_fc_model_%s.h5'%pretrained_model\n",
    "# train_data_dir = '../data/Pandora18K_small_train_val_test_split/train'\n",
    "# validation_data_dir = '../data/Pandora18K_small_train_val_test_split/val'\n",
    "# test_data_dir = '../data/Pandora18K_small_train_val_test_split/test'\n",
    "# nb_train_samples = 1462\n",
    "# nb_validation_samples = 167\n",
    "# nb_test_samples = 171\n",
    "train_data_dir = '../data/Pandora18K_train_val_test_split/train'\n",
    "validation_data_dir = '../data/Pandora18K_train_val_test_split/val'\n",
    "test_data_dir = '../data/Pandora18K_train_val_test_split/test'\n",
    "nb_train_samples = 14313\n",
    "nb_validation_samples = 1772\n",
    "nb_test_samples = 1791\n",
    "\n",
    "batch_size = 64\n"
   ]
  },
  {
   "cell_type": "code",
   "execution_count": 2,
   "metadata": {
    "collapsed": true
   },
   "outputs": [],
   "source": [
    "from keras.utils.np_utils import to_categorical\n",
    "tag=''\n",
    "train_data = np.load(open('../data/image_train%s.npy'%tag))\n",
    "#full\n",
    "train_labels = np.array([0]*684+[1]*598+[2]*655+[3]*657+[4]*808+[5]*675+[6]*715+[7]*946+[8]*995+[9]*1021+[10]*803+[11]*816+[12]*566+[13]*959+[14]*842+[15]*831+[16]*849+[17]*893)\n",
    "\n",
    "#small\n",
    "#train_labels = np.array([0]*78+[1]*79+[2]*77+[3]*85+[4]*78+[5]*87+[6]*80+[7]*81+[8]*81+[9]*80+[10]*85+[11]*83+[12]*74+[13]*87+[14]*83+[15]*83+[16]*78+[17]*83)\n",
    "\n",
    "train_labels = to_categorical(train_labels, num_classes=18)\n",
    "\n",
    "validation_data = np.load(open('../data/image_validation%s.npy'%tag))\n",
    "#full\n",
    "validation_labels = np.array([0]*72+[1]*73+[2]*72+[3]*93+[4]*78+[5]*74+[6]*85+[7]*124+[8]*131+[9]*118+[10]*109+[11]*105+[12]*80+[13]*130+[14]*108+[15]*89+[16]*111+[17]*120)\n",
    "\n",
    "#small\n",
    "#validation_labels = np.array([0]*8+[1]*10+[2]*11+[3]*5+[4]*11+[5]*6+[6]*8+[7]*8+[8]*9+[9]*12+[10]*7+[11]*10+[12]*14+[13]*5+[14]*11+[15]*11+[16]*12+[17]*9)\n",
    "validation_labels = to_categorical(validation_labels, num_classes=18)\n",
    "\n",
    "test_data = np.load(open('../data/image_test%s.npy'%tag))\n",
    "#full\n",
    "test_labels = np.array([0]*91+[1]*60+[2]*75+[3]*82+[4]*104+[5]*83+[6]*95+[7]*121+[8]*131+[9]*123+[10]*103+[11]*117+[12]*65+[13]*123+[14]*121+[15]*112+[16]*89+[17]*96)\n",
    "\n",
    "#small\n",
    "#test_labels = np.array([0]*14+[1]*11+[2]*12+[3]*10+[4]*11+[5]*7+[6]*12+[7]*11+[8]*10+[9]*8+[10]*8+[11]*7+[12]*12+[13]*8+[14]*6+[15]*6+[16]*10+[17]*8)\n",
    "test_labels = to_categorical(test_labels, num_classes=18)"
   ]
  },
  {
   "cell_type": "code",
   "execution_count": 24,
   "metadata": {
    "collapsed": true
   },
   "outputs": [],
   "source": [
    "import keras\n",
    "import os\n",
    "import pickle\n",
    "\n",
    "\n",
    "\n",
    "\n",
    "base_model = applications.inception_v3.InceptionV3(include_top=False, weights='imagenet', input_shape=(img_width,img_height,3))\n"
   ]
  },
  {
   "cell_type": "code",
   "execution_count": null,
   "metadata": {
    "collapsed": true
   },
   "outputs": [],
   "source": [
    "\n"
   ]
  },
  {
   "cell_type": "code",
   "execution_count": 28,
   "metadata": {
    "scrolled": false
   },
   "outputs": [
    {
     "name": "stdout",
     "output_type": "stream",
     "text": [
      "(1.951551576923019e-05, 650, 0.7037775003798115, 0.7698038979003217)\n",
      "../model/part_3_weights/best_weights_inceptionv3_500.h5\n"
     ]
    }
   ],
   "source": [
    "pretrained_model = \"inceptionv3_500\"\n",
    "weight_folder = \"part_3_weights\"\n",
    "\n",
    "#0:lr,1:dense middle,2:dropout1, 3:dropout2\n",
    "params=(1.951551576923019e-05, 650, 0.7037775003798115, 0.7698038979003217)\n",
    "# params =(1.4813844087597416e-05, 593, 0.4553738549907012, 0.7257928399177316)\n",
    "# params = (9.872134816612904e-05, 653, 0.40977067265920386, 0.7121187929915329)\n",
    "# params = (1.3295116966818116e-06, 394, 0.4659839988579486, 0.751079719556778)\n",
    "\n",
    "print(params)\n",
    "top_model = Sequential()\n",
    "top_model.add(Flatten(input_shape=base_model.output_shape[1:]))\n",
    "top_model.add(Dropout(params[2]))#0.6\n",
    "top_model.add(Dense(params[1], activation='relu'))#256\n",
    "top_model.add(Dropout(params[2]))#0.6\n",
    "top_model.add(Dense(18, activation='softmax'))\n",
    "\n",
    "weight_dir = \"../model/%s\"%weight_folder\n",
    "best_weight_path = os.path.join(weight_dir, \"best_weights_%s.h5\"%pretrained_model)\n",
    "\n",
    "print(best_weight_path)\n",
    "\n",
    "top_model.load_weights(best_weight_path)\n",
    "\n",
    "\n",
    "# for layers in top_model.layers:\n",
    "#     trainable=False\n",
    "    \n",
    "# for layers in base_model.layers:\n",
    "#     trainable=True\n",
    "\n",
    "# top_model.compile(optimizer=keras.optimizers.SGD(lr=1e-5, momentum=0.9),\n",
    "#                   loss='categorical_crossentropy', metrics=['accuracy'])\n",
    "\n",
    "model = Model(inputs= base_model.input, outputs= top_model(base_model.output))\n",
    "model.load_weights(\"../model/finetune/finetune_weights_0.5857.h5\")\n",
    "\n",
    "\n"
   ]
  },
  {
   "cell_type": "code",
   "execution_count": null,
   "metadata": {
    "collapsed": true
   },
   "outputs": [],
   "source": []
  },
  {
   "cell_type": "code",
   "execution_count": 5,
   "metadata": {
    "collapsed": true
   },
   "outputs": [],
   "source": [
    "# model.compile(optimizer=keras.optimizers.SGD(lr=0, momentum=0),\n",
    "#                   loss='categorical_crossentropy', metrics=['accuracy'])\n"
   ]
  },
  {
   "cell_type": "code",
   "execution_count": 6,
   "metadata": {},
   "outputs": [
    {
     "name": "stdout",
     "output_type": "stream",
     "text": [
      "(0, 'input_1', <keras.engine.topology.InputLayer object at 0x7fb5e8134cd0>)\n",
      "(1, 'conv2d_1', <keras.layers.convolutional.Conv2D object at 0x7fb58f700d50>)\n",
      "(2, 'batch_normalization_1', <keras.layers.normalization.BatchNormalization object at 0x7fb58f6b2450>)\n",
      "(3, 'activation_1', <keras.layers.core.Activation object at 0x7fb5e813c090>)\n",
      "(4, 'conv2d_2', <keras.layers.convolutional.Conv2D object at 0x7fb5e813c050>)\n",
      "(5, 'batch_normalization_2', <keras.layers.normalization.BatchNormalization object at 0x7fb58f66cd10>)\n",
      "(6, 'activation_2', <keras.layers.core.Activation object at 0x7fa912c91290>)\n",
      "(7, 'conv2d_3', <keras.layers.convolutional.Conv2D object at 0x7fa912c4c790>)\n",
      "(8, 'batch_normalization_3', <keras.layers.normalization.BatchNormalization object at 0x7fa912c3edd0>)\n",
      "(9, 'activation_3', <keras.layers.core.Activation object at 0x7fa912c102d0>)\n",
      "(10, 'max_pooling2d_1', <keras.layers.pooling.MaxPooling2D object at 0x7fa912bdc410>)\n",
      "(11, 'conv2d_4', <keras.layers.convolutional.Conv2D object at 0x7fa912bd0110>)\n",
      "(12, 'batch_normalization_4', <keras.layers.normalization.BatchNormalization object at 0x7fa912b25390>)\n",
      "(13, 'activation_4', <keras.layers.core.Activation object at 0x7fa912b4d450>)\n",
      "(14, 'conv2d_5', <keras.layers.convolutional.Conv2D object at 0x7fa912b60d10>)\n",
      "(15, 'batch_normalization_5', <keras.layers.normalization.BatchNormalization object at 0x7fa912b21f90>)\n",
      "(16, 'activation_5', <keras.layers.core.Activation object at 0x7fa912ab6a90>)\n",
      "(17, 'max_pooling2d_2', <keras.layers.pooling.MaxPooling2D object at 0x7fa912a76990>)\n",
      "(18, 'conv2d_9', <keras.layers.convolutional.Conv2D object at 0x7fa9128a8ad0>)\n",
      "(19, 'batch_normalization_9', <keras.layers.normalization.BatchNormalization object at 0x7fa9128ee450>)\n",
      "(20, 'activation_9', <keras.layers.core.Activation object at 0x7fa912893990>)\n",
      "(21, 'conv2d_7', <keras.layers.convolutional.Conv2D object at 0x7fa912a078d0>)\n",
      "(22, 'conv2d_10', <keras.layers.convolutional.Conv2D object at 0x7fa912839810>)\n",
      "(23, 'batch_normalization_7', <keras.layers.normalization.BatchNormalization object at 0x7fa912a19610>)\n",
      "(24, 'batch_normalization_10', <keras.layers.normalization.BatchNormalization object at 0x7fa91282ccd0>)\n",
      "(25, 'activation_7', <keras.layers.core.Activation object at 0x7fa9129de6d0>)\n",
      "(26, 'activation_10', <keras.layers.core.Activation object at 0x7fa9127fc250>)\n",
      "(27, 'average_pooling2d_1', <keras.layers.pooling.AveragePooling2D object at 0x7fa91274f810>)\n",
      "(28, 'conv2d_6', <keras.layers.convolutional.Conv2D object at 0x7fa912a84210>)\n",
      "(29, 'conv2d_8', <keras.layers.convolutional.Conv2D object at 0x7fa912927350>)\n",
      "(30, 'conv2d_11', <keras.layers.convolutional.Conv2D object at 0x7fa9127bac50>)\n",
      "(31, 'conv2d_12', <keras.layers.convolutional.Conv2D object at 0x7fa912762090>)\n",
      "(32, 'batch_normalization_6', <keras.layers.normalization.BatchNormalization object at 0x7fa912a33f10>)\n",
      "(33, 'batch_normalization_8', <keras.layers.normalization.BatchNormalization object at 0x7fa912995290>)\n",
      "(34, 'batch_normalization_11', <keras.layers.normalization.BatchNormalization object at 0x7fa9127c9950>)\n",
      "(35, 'batch_normalization_12', <keras.layers.normalization.BatchNormalization object at 0x7fa91270fdd0>)\n",
      "(36, 'activation_6', <keras.layers.core.Activation object at 0x7fa912a63f50>)\n",
      "(37, 'activation_8', <keras.layers.core.Activation object at 0x7fa912902c50>)\n",
      "(38, 'activation_11', <keras.layers.core.Activation object at 0x7fa912790a10>)\n",
      "(39, 'activation_12', <keras.layers.core.Activation object at 0x7fa9126bbf50>)\n",
      "(40, 'mixed0', <keras.layers.merge.Concatenate object at 0x7fa912673390>)\n",
      "(41, 'conv2d_16', <keras.layers.convolutional.Conv2D object at 0x7fa912506c90>)\n",
      "(42, 'batch_normalization_16', <keras.layers.normalization.BatchNormalization object at 0x7fa912512990>)\n",
      "(43, 'activation_16', <keras.layers.core.Activation object at 0x7fa9124d7a50>)\n",
      "(44, 'conv2d_14', <keras.layers.convolutional.Conv2D object at 0x7fa912606810>)\n",
      "(45, 'conv2d_17', <keras.layers.convolutional.Conv2D object at 0x7fa912494850>)\n",
      "(46, 'batch_normalization_14', <keras.layers.normalization.BatchNormalization object at 0x7fa9125f3050>)\n",
      "(47, 'batch_normalization_17', <keras.layers.normalization.BatchNormalization object at 0x7fa912427290>)\n",
      "(48, 'activation_14', <keras.layers.core.Activation object at 0x7fa9125cc310>)\n",
      "(49, 'activation_17', <keras.layers.core.Activation object at 0x7fa912400e90>)\n",
      "(50, 'average_pooling2d_2', <keras.layers.pooling.AveragePooling2D object at 0x7fa912338710>)\n",
      "(51, 'conv2d_13', <keras.layers.convolutional.Conv2D object at 0x7fa9126e0dd0>)\n",
      "(52, 'conv2d_15', <keras.layers.convolutional.Conv2D object at 0x7fa912585850>)\n",
      "(53, 'conv2d_18', <keras.layers.convolutional.Conv2D object at 0x7fa9123ebbd0>)\n",
      "(54, 'conv2d_19', <keras.layers.convolutional.Conv2D object at 0x7fa91232bc50>)\n",
      "(55, 'batch_normalization_13', <keras.layers.normalization.BatchNormalization object at 0x7fa91269f810>)\n",
      "(56, 'batch_normalization_15', <keras.layers.normalization.BatchNormalization object at 0x7fa912576c10>)\n",
      "(57, 'batch_normalization_18', <keras.layers.normalization.BatchNormalization object at 0x7fa9123a50d0>)\n",
      "(58, 'batch_normalization_19', <keras.layers.normalization.BatchNormalization object at 0x7fa9122fe150>)\n",
      "(59, 'activation_13', <keras.layers.core.Activation object at 0x7fa91264dfd0>)\n",
      "(60, 'activation_15', <keras.layers.core.Activation object at 0x7fa9124ef710>)\n",
      "(61, 'activation_18', <keras.layers.core.Activation object at 0x7fa9123821d0>)\n",
      "(62, 'activation_19', <keras.layers.core.Activation object at 0x7fa9122a56d0>)\n",
      "(63, 'mixed1', <keras.layers.merge.Concatenate object at 0x7fa9122b9e10>)\n",
      "(64, 'conv2d_23', <keras.layers.convolutional.Conv2D object at 0x7fa91213dc10>)\n",
      "(65, 'batch_normalization_23', <keras.layers.normalization.BatchNormalization object at 0x7fa9120f6110>)\n",
      "(66, 'activation_23', <keras.layers.core.Activation object at 0x7fa9120cf210>)\n",
      "(67, 'conv2d_21', <keras.layers.convolutional.Conv2D object at 0x7fa912252cd0>)\n",
      "(68, 'conv2d_24', <keras.layers.convolutional.Conv2D object at 0x7fa912086750>)\n",
      "(69, 'batch_normalization_21', <keras.layers.normalization.BatchNormalization object at 0x7fa91225f9d0>)\n",
      "(70, 'batch_normalization_24', <keras.layers.normalization.BatchNormalization object at 0x7fa91207bb10>)\n",
      "(71, 'activation_21', <keras.layers.core.Activation object at 0x7fa9121a6a90>)\n",
      "(72, 'activation_24', <keras.layers.core.Activation object at 0x7fa911ff6610>)\n",
      "(73, 'average_pooling2d_3', <keras.layers.pooling.AveragePooling2D object at 0x7fa911f32450>)\n",
      "(74, 'conv2d_20', <keras.layers.convolutional.Conv2D object at 0x7fa9122b9950>)\n",
      "(75, 'conv2d_22', <keras.layers.convolutional.Conv2D object at 0x7fa9121e2890>)\n",
      "(76, 'conv2d_25', <keras.layers.convolutional.Conv2D object at 0x7fa91200bb90>)\n",
      "(77, 'conv2d_26', <keras.layers.convolutional.Conv2D object at 0x7fa911f9e410>)\n",
      "(78, 'batch_normalization_20', <keras.layers.normalization.BatchNormalization object at 0x7fa91228f410>)\n",
      "(79, 'batch_normalization_22', <keras.layers.normalization.BatchNormalization object at 0x7fa9121742d0>)\n",
      "(80, 'batch_normalization_25', <keras.layers.normalization.BatchNormalization object at 0x7fa91201a890>)\n",
      "(81, 'batch_normalization_26', <keras.layers.normalization.BatchNormalization object at 0x7fa911f5fd10>)\n",
      "(82, 'activation_20', <keras.layers.core.Activation object at 0x7fa91223a750>)\n",
      "(83, 'activation_22', <keras.layers.core.Activation object at 0x7fa912150ed0>)\n",
      "(84, 'activation_25', <keras.layers.core.Activation object at 0x7fa911fe1950>)\n",
      "(85, 'activation_26', <keras.layers.core.Activation object at 0x7fa911f08e50>)\n",
      "(86, 'mixed2', <keras.layers.merge.Concatenate object at 0x7fa911ec1890>)\n",
      "(87, 'conv2d_28', <keras.layers.convolutional.Conv2D object at 0x7fa911e9bcd0>)\n",
      "(88, 'batch_normalization_28', <keras.layers.normalization.BatchNormalization object at 0x7fa911e42150>)\n",
      "(89, 'activation_28', <keras.layers.core.Activation object at 0x7fa911e1c250>)\n",
      "(90, 'conv2d_29', <keras.layers.convolutional.Conv2D object at 0x7fa911dd5790>)\n",
      "(91, 'batch_normalization_29', <keras.layers.normalization.BatchNormalization object at 0x7fa911dc7b50>)\n",
      "(92, 'activation_29', <keras.layers.core.Activation object at 0x7fa911d41650>)\n",
      "(93, 'conv2d_27', <keras.layers.convolutional.Conv2D object at 0x7fa911eadd10>)\n",
      "(94, 'conv2d_30', <keras.layers.convolutional.Conv2D object at 0x7fa911d58bd0>)\n",
      "(95, 'batch_normalization_27', <keras.layers.normalization.BatchNormalization object at 0x7fa911e6f750>)\n",
      "(96, 'batch_normalization_30', <keras.layers.normalization.BatchNormalization object at 0x7fa911ce68d0>)\n",
      "(97, 'activation_27', <keras.layers.core.Activation object at 0x7fa911e9bed0>)\n",
      "(98, 'activation_30', <keras.layers.core.Activation object at 0x7fa911caf990>)\n",
      "(99, 'max_pooling2d_3', <keras.layers.pooling.MaxPooling2D object at 0x7fa911c6fe90>)\n",
      "(100, 'mixed3', <keras.layers.merge.Concatenate object at 0x7fa911c6f450>)\n",
      "(101, 'conv2d_35', <keras.layers.convolutional.Conv2D object at 0x7fa911a28c10>)\n",
      "(102, 'batch_normalization_35', <keras.layers.normalization.BatchNormalization object at 0x7fa911a36910>)\n",
      "(103, 'activation_35', <keras.layers.core.Activation object at 0x7fa9119fe9d0>)\n",
      "(104, 'conv2d_36', <keras.layers.convolutional.Conv2D object at 0x7fa9119b97d0>)\n",
      "(105, 'batch_normalization_36', <keras.layers.normalization.BatchNormalization object at 0x7fa9119cd210>)\n",
      "(106, 'activation_36', <keras.layers.core.Activation object at 0x7fa911928e10>)\n",
      "(107, 'conv2d_32', <keras.layers.convolutional.Conv2D object at 0x7fa911c00910>)\n",
      "(108, 'conv2d_37', <keras.layers.convolutional.Conv2D object at 0x7fa911990b50>)\n",
      "(109, 'batch_normalization_32', <keras.layers.normalization.BatchNormalization object at 0x7fa911c13610>)\n",
      "(110, 'batch_normalization_37', <keras.layers.normalization.BatchNormalization object at 0x7fa911951050>)\n",
      "(111, 'activation_32', <keras.layers.core.Activation object at 0x7fa911b6af50>)\n",
      "(112, 'activation_37', <keras.layers.core.Activation object at 0x7fa9118a8150>)\n",
      "(113, 'conv2d_33', <keras.layers.convolutional.Conv2D object at 0x7fa911bd8c90>)\n",
      "(114, 'conv2d_38', <keras.layers.convolutional.Conv2D object at 0x7fa9118de690>)\n",
      "(115, 'batch_normalization_33', <keras.layers.normalization.BatchNormalization object at 0x7fa911b93190>)\n",
      "(116, 'batch_normalization_38', <keras.layers.normalization.BatchNormalization object at 0x7fa9118cda50>)\n",
      "(117, 'activation_33', <keras.layers.core.Activation object at 0x7fa911aec290>)\n",
      "(118, 'activation_38', <keras.layers.core.Activation object at 0x7fa91184e550>)\n",
      "(119, 'average_pooling2d_4', <keras.layers.pooling.AveragePooling2D object at 0x7fa911788390>)\n",
      "(120, 'conv2d_31', <keras.layers.convolutional.Conv2D object at 0x7fa911c2da50>)\n",
      "(121, 'conv2d_34', <keras.layers.convolutional.Conv2D object at 0x7fa911b16f10>)\n",
      "(122, 'conv2d_39', <keras.layers.convolutional.Conv2D object at 0x7fa911862ad0>)\n",
      "(123, 'conv2d_40', <keras.layers.convolutional.Conv2D object at 0x7fa911775350>)\n",
      "(124, 'batch_normalization_31', <keras.layers.normalization.BatchNormalization object at 0x7fa911c43550>)\n",
      "(125, 'batch_normalization_34', <keras.layers.normalization.BatchNormalization object at 0x7fa911aa52d0>)\n",
      "(126, 'batch_normalization_39', <keras.layers.normalization.BatchNormalization object at 0x7fa9117f37d0>)\n",
      "(127, 'batch_normalization_40', <keras.layers.normalization.BatchNormalization object at 0x7fa911736c50>)\n",
      "(128, 'activation_31', <keras.layers.core.Activation object at 0x7fa911beb390>)\n",
      "(129, 'activation_34', <keras.layers.core.Activation object at 0x7fa911a91690>)\n",
      "(130, 'activation_39', <keras.layers.core.Activation object at 0x7fa9117b8890>)\n",
      "(131, 'activation_40', <keras.layers.core.Activation object at 0x7fa9116e5d90>)\n",
      "(132, 'mixed4', <keras.layers.merge.Concatenate object at 0x7fa91171d7d0>)\n",
      "(133, 'conv2d_45', <keras.layers.convolutional.Conv2D object at 0x7fa9114d7410>)\n",
      "(134, 'batch_normalization_45', <keras.layers.normalization.BatchNormalization object at 0x7fa9114c20d0>)\n",
      "(135, 'activation_45', <keras.layers.core.Activation object at 0x7fa91149aa90>)\n",
      "(136, 'conv2d_46', <keras.layers.convolutional.Conv2D object at 0x7fa911454a10>)\n",
      "(137, 'batch_normalization_46', <keras.layers.normalization.BatchNormalization object at 0x7fa911442dd0>)\n",
      "(138, 'activation_46', <keras.layers.core.Activation object at 0x7fa9113c28d0>)\n",
      "(139, 'conv2d_42', <keras.layers.convolutional.Conv2D object at 0x7fa911675cd0>)\n",
      "(140, 'conv2d_47', <keras.layers.convolutional.Conv2D object at 0x7fa9113dbe50>)\n",
      "(141, 'batch_normalization_42', <keras.layers.normalization.BatchNormalization object at 0x7fa9116990d0>)\n",
      "(142, 'batch_normalization_47', <keras.layers.normalization.BatchNormalization object at 0x7fa911368490>)\n",
      "(143, 'activation_42', <keras.layers.core.Activation object at 0x7fa9115f61d0>)\n",
      "(144, 'activation_47', <keras.layers.core.Activation object at 0x7fa911353490>)\n",
      "(145, 'conv2d_43', <keras.layers.convolutional.Conv2D object at 0x7fa9115ac710>)\n",
      "(146, 'conv2d_48', <keras.layers.convolutional.Conv2D object at 0x7fa9112eaa10>)\n",
      "(147, 'batch_normalization_43', <keras.layers.normalization.BatchNormalization object at 0x7fa91161ead0>)\n",
      "(148, 'batch_normalization_48', <keras.layers.normalization.BatchNormalization object at 0x7fa9112fb710>)\n",
      "(149, 'activation_43', <keras.layers.core.Activation object at 0x7fa91159a5d0>)\n",
      "(150, 'activation_48', <keras.layers.core.Activation object at 0x7fa9112c17d0>)\n",
      "(151, 'average_pooling2d_5', <keras.layers.pooling.AveragePooling2D object at 0x7fa91120f8d0>)\n",
      "(152, 'conv2d_41', <keras.layers.convolutional.Conv2D object at 0x7fa91170a050>)\n",
      "(153, 'conv2d_44', <keras.layers.convolutional.Conv2D object at 0x7fa911532b50>)\n",
      "(154, 'conv2d_49', <keras.layers.convolutional.Conv2D object at 0x7fa911291890>)\n",
      "(155, 'conv2d_50', <keras.layers.convolutional.Conv2D object at 0x7fa911200e10>)\n",
      "(156, 'batch_normalization_41', <keras.layers.normalization.BatchNormalization object at 0x7fa9116cb7d0>)\n",
      "(157, 'batch_normalization_44', <keras.layers.normalization.BatchNormalization object at 0x7fa91153e850>)\n",
      "(158, 'batch_normalization_49', <keras.layers.normalization.BatchNormalization object at 0x7fa91127e0d0>)\n",
      "(159, 'batch_normalization_50', <keras.layers.normalization.BatchNormalization object at 0x7fa9111d6310>)\n",
      "(160, 'activation_41', <keras.layers.core.Activation object at 0x7fa911675e50>)\n",
      "(161, 'activation_44', <keras.layers.core.Activation object at 0x7fa911505910>)\n",
      "(162, 'activation_49', <keras.layers.core.Activation object at 0x7fa911256390>)\n",
      "(163, 'activation_50', <keras.layers.core.Activation object at 0x7fa91117d890>)\n",
      "(164, 'mixed5', <keras.layers.merge.Concatenate object at 0x7fa9111a1750>)\n",
      "(165, 'conv2d_55', <keras.layers.convolutional.Conv2D object at 0x7fa910f5f910>)\n",
      "(166, 'batch_normalization_55', <keras.layers.normalization.BatchNormalization object at 0x7fa910f4fcd0>)\n",
      "(167, 'activation_55', <keras.layers.core.Activation object at 0x7fa910ecd7d0>)\n",
      "(168, 'conv2d_56', <keras.layers.convolutional.Conv2D object at 0x7fa910ee2d50>)\n",
      "(169, 'batch_normalization_56', <keras.layers.normalization.BatchNormalization object at 0x7fa910e71390>)\n",
      "(170, 'activation_56', <keras.layers.core.Activation object at 0x7fa910e36b10>)\n",
      "(171, 'conv2d_52', <keras.layers.convolutional.Conv2D object at 0x7fa9110b6610>)\n",
      "(172, 'conv2d_57', <keras.layers.convolutional.Conv2D object at 0x7fa910df5910>)\n",
      "(173, 'batch_normalization_52', <keras.layers.normalization.BatchNormalization object at 0x7fa9110a69d0>)\n",
      "(174, 'batch_normalization_57', <keras.layers.normalization.BatchNormalization object at 0x7fa910e07610>)\n",
      "(175, 'activation_52', <keras.layers.core.Activation object at 0x7fa9110254d0>)\n",
      "(176, 'activation_57', <keras.layers.core.Activation object at 0x7fa910de0f50>)\n",
      "(177, 'conv2d_53', <keras.layers.convolutional.Conv2D object at 0x7fa91103aa50>)\n",
      "(178, 'conv2d_58', <keras.layers.convolutional.Conv2D object at 0x7fa910dc9c90>)\n",
      "(179, 'batch_normalization_53', <keras.layers.normalization.BatchNormalization object at 0x7fa91104c750>)\n",
      "(180, 'batch_normalization_58', <keras.layers.normalization.BatchNormalization object at 0x7fa910d86190>)\n",
      "(181, 'activation_53', <keras.layers.core.Activation object at 0x7fa911011810>)\n",
      "(182, 'activation_58', <keras.layers.core.Activation object at 0x7fa910d5f290>)\n",
      "(183, 'average_pooling2d_6', <keras.layers.pooling.AveragePooling2D object at 0x7fa910c9bc10>)\n",
      "(184, 'conv2d_51', <keras.layers.convolutional.Conv2D object at 0x7fa91113a910>)\n",
      "(185, 'conv2d_54', <keras.layers.convolutional.Conv2D object at 0x7fa910fe0310>)\n",
      "(186, 'conv2d_59', <keras.layers.convolutional.Conv2D object at 0x7fa910d177d0>)\n",
      "(187, 'conv2d_60', <keras.layers.convolutional.Conv2D object at 0x7fa910c29390>)\n",
      "(188, 'batch_normalization_51', <keras.layers.normalization.BatchNormalization object at 0x7fa9110e8190>)\n",
      "(189, 'batch_normalization_54', <keras.layers.normalization.BatchNormalization object at 0x7fa910fce110>)\n",
      "(190, 'batch_normalization_59', <keras.layers.normalization.BatchNormalization object at 0x7fa910d08b90>)\n",
      "(191, 'batch_normalization_60', <keras.layers.normalization.BatchNormalization object at 0x7fa910c5cfd0>)\n",
      "(192, 'activation_51', <keras.layers.core.Activation object at 0x7fa91110f910>)\n",
      "(193, 'activation_54', <keras.layers.core.Activation object at 0x7fa910f263d0>)\n",
      "(194, 'activation_59', <keras.layers.core.Activation object at 0x7fa910c85690>)\n",
      "(195, 'activation_60', <keras.layers.core.Activation object at 0x7fa910c1c350>)\n",
      "(196, 'mixed6', <keras.layers.merge.Concatenate object at 0x7fa910bb2a90>)\n",
      "(197, 'conv2d_65', <keras.layers.convolutional.Conv2D object at 0x7fa91096dc10>)\n",
      "(198, 'batch_normalization_65', <keras.layers.normalization.BatchNormalization object at 0x7fa91097a910>)\n",
      "(199, 'activation_65', <keras.layers.core.Activation object at 0x7fa9109419d0>)\n",
      "(200, 'conv2d_66', <keras.layers.convolutional.Conv2D object at 0x7fa9108fd7d0>)\n",
      "(201, 'batch_normalization_66', <keras.layers.normalization.BatchNormalization object at 0x7fa910910210>)\n",
      "(202, 'activation_66', <keras.layers.core.Activation object at 0x7fa910869e10>)\n",
      "(203, 'conv2d_62', <keras.layers.convolutional.Conv2D object at 0x7fa910b43910>)\n",
      "(204, 'conv2d_67', <keras.layers.convolutional.Conv2D object at 0x7fa9108d6b50>)\n",
      "(205, 'batch_normalization_62', <keras.layers.normalization.BatchNormalization object at 0x7fa910b54610>)\n",
      "(206, 'batch_normalization_67', <keras.layers.normalization.BatchNormalization object at 0x7fa910892050>)\n",
      "(207, 'activation_62', <keras.layers.core.Activation object at 0x7fa910aadf50>)\n",
      "(208, 'activation_67', <keras.layers.core.Activation object at 0x7fa9107e8150>)\n",
      "(209, 'conv2d_63', <keras.layers.convolutional.Conv2D object at 0x7fa910b1ac90>)\n",
      "(210, 'conv2d_68', <keras.layers.convolutional.Conv2D object at 0x7fa910823690>)\n",
      "(211, 'batch_normalization_63', <keras.layers.normalization.BatchNormalization object at 0x7fa910ad5190>)\n",
      "(212, 'batch_normalization_68', <keras.layers.normalization.BatchNormalization object at 0x7fa910813a50>)\n",
      "(213, 'activation_63', <keras.layers.core.Activation object at 0x7fa910a2f290>)\n",
      "(214, 'activation_68', <keras.layers.core.Activation object at 0x7fa910792550>)\n",
      "(215, 'average_pooling2d_7', <keras.layers.pooling.AveragePooling2D object at 0x7fa9106cb390>)\n",
      "(216, 'conv2d_61', <keras.layers.convolutional.Conv2D object at 0x7fa91170ac50>)\n",
      "(217, 'conv2d_64', <keras.layers.convolutional.Conv2D object at 0x7fa9109e77d0>)\n",
      "(218, 'conv2d_69', <keras.layers.convolutional.Conv2D object at 0x7fa910727ad0>)\n",
      "(219, 'conv2d_70', <keras.layers.convolutional.Conv2D object at 0x7fa9106b9350>)\n",
      "(220, 'batch_normalization_61', <keras.layers.normalization.BatchNormalization object at 0x7fa910b6ff90>)\n",
      "(221, 'batch_normalization_64', <keras.layers.normalization.BatchNormalization object at 0x7fa910a59b90>)\n",
      "(222, 'batch_normalization_69', <keras.layers.normalization.BatchNormalization object at 0x7fa9107377d0>)\n",
      "(223, 'batch_normalization_70', <keras.layers.normalization.BatchNormalization object at 0x7fa910679c50>)\n",
      "(224, 'activation_61', <keras.layers.core.Activation object at 0x7fa910b2f290>)\n",
      "(225, 'activation_64', <keras.layers.core.Activation object at 0x7fa9109d5690>)\n",
      "(226, 'activation_69', <keras.layers.core.Activation object at 0x7fa9106fd890>)\n",
      "(227, 'activation_70', <keras.layers.core.Activation object at 0x7fa910625d90>)\n",
      "(228, 'mixed7', <keras.layers.merge.Concatenate object at 0x7fa9106607d0>)\n",
      "(229, 'conv2d_73', <keras.layers.convolutional.Conv2D object at 0x7fa9104f06d0>)\n",
      "(230, 'batch_normalization_73', <keras.layers.normalization.BatchNormalization object at 0x7fa910562a90>)\n",
      "(231, 'activation_73', <keras.layers.core.Activation object at 0x7fa9104dc590>)\n",
      "(232, 'conv2d_74', <keras.layers.convolutional.Conv2D object at 0x7fa910473b10>)\n",
      "(233, 'batch_normalization_74', <keras.layers.normalization.BatchNormalization object at 0x7fa910486810>)\n",
      "(234, 'activation_74', <keras.layers.core.Activation object at 0x7fa91044a8d0>)\n",
      "(235, 'conv2d_71', <keras.layers.convolutional.Conv2D object at 0x7fa91064ac50>)\n",
      "(236, 'conv2d_75', <keras.layers.convolutional.Conv2D object at 0x7fa9104193d0>)\n",
      "(237, 'batch_normalization_71', <keras.layers.normalization.BatchNormalization object at 0x7fa91060c690>)\n",
      "(238, 'batch_normalization_75', <keras.layers.normalization.BatchNormalization object at 0x7fa910407090>)\n",
      "(239, 'activation_71', <keras.layers.core.Activation object at 0x7fa9105b9e10>)\n",
      "(240, 'activation_75', <keras.layers.core.Activation object at 0x7fa9103dea50>)\n",
      "(241, 'conv2d_72', <keras.layers.convolutional.Conv2D object at 0x7fa9105b9c10>)\n",
      "(242, 'conv2d_76', <keras.layers.convolutional.Conv2D object at 0x7fa9103989d0>)\n",
      "(243, 'batch_normalization_72', <keras.layers.normalization.BatchNormalization object at 0x7fa9105df090>)\n",
      "(244, 'batch_normalization_76', <keras.layers.normalization.BatchNormalization object at 0x7fa910386d90>)\n",
      "(245, 'activation_72', <keras.layers.core.Activation object at 0x7fa91054d9d0>)\n",
      "(246, 'activation_76', <keras.layers.core.Activation object at 0x7fa910303890>)\n",
      "(247, 'max_pooling2d_4', <keras.layers.pooling.MaxPooling2D object at 0x7fa910318e10>)\n",
      "(248, 'mixed8', <keras.layers.merge.Concatenate object at 0x7fa9102a6590>)\n",
      "(249, 'conv2d_81', <keras.layers.convolutional.Conv2D object at 0x7fa91007fc10>)\n",
      "(250, 'batch_normalization_81', <keras.layers.normalization.BatchNormalization object at 0x7fa91002a490>)\n",
      "(251, 'activation_81', <keras.layers.core.Activation object at 0x7fa910054ad0>)\n",
      "(252, 'conv2d_78', <keras.layers.convolutional.Conv2D object at 0x7fa91023c750>)\n",
      "(253, 'conv2d_82', <keras.layers.convolutional.Conv2D object at 0x7fa90fffe950>)\n",
      "(254, 'batch_normalization_78', <keras.layers.normalization.BatchNormalization object at 0x7fa91022fb10>)\n",
      "(255, 'batch_normalization_82', <keras.layers.normalization.BatchNormalization object at 0x7fa90ffeed10>)\n",
      "(256, 'activation_78', <keras.layers.core.Activation object at 0x7fa9101ab610>)\n",
      "(257, 'activation_82', <keras.layers.core.Activation object at 0x7fa90ff6b810>)\n",
      "(258, 'conv2d_79', <keras.layers.convolutional.Conv2D object at 0x7fa9101c5b90>)\n",
      "(259, 'conv2d_80', <keras.layers.convolutional.Conv2D object at 0x7fa9100e9450>)\n",
      "(260, 'conv2d_83', <keras.layers.convolutional.Conv2D object at 0x7fa90ff82d90>)\n",
      "(261, 'conv2d_84', <keras.layers.convolutional.Conv2D object at 0x7fa90ff11950>)\n",
      "(262, 'average_pooling2d_8', <keras.layers.pooling.AveragePooling2D object at 0x7fa90fe25c50>)\n",
      "(263, 'conv2d_77', <keras.layers.convolutional.Conv2D object at 0x7fa91026db90>)\n",
      "(264, 'batch_normalization_79', <keras.layers.normalization.BatchNormalization object at 0x7fa9101d3890>)\n",
      "(265, 'batch_normalization_80', <keras.layers.normalization.BatchNormalization object at 0x7fa910155110>)\n",
      "(266, 'batch_normalization_83', <keras.layers.normalization.BatchNormalization object at 0x7fa90ff903d0>)\n",
      "(267, 'batch_normalization_84', <keras.layers.normalization.BatchNormalization object at 0x7fa90ff21650>)\n",
      "(268, 'conv2d_85', <keras.layers.convolutional.Conv2D object at 0x7fa90fde6ad0>)\n",
      "(269, 'batch_normalization_77', <keras.layers.normalization.BatchNormalization object at 0x7fa9102841d0>)\n",
      "(270, 'activation_79', <keras.layers.core.Activation object at 0x7fa910198950>)\n",
      "(271, 'activation_80', <keras.layers.core.Activation object at 0x7fa9100c0d50>)\n",
      "(272, 'activation_83', <keras.layers.core.Activation object at 0x7fa90ff54b50>)\n",
      "(273, 'activation_84', <keras.layers.core.Activation object at 0x7fa90fe65710>)\n",
      "(274, 'batch_normalization_85', <keras.layers.normalization.BatchNormalization object at 0x7fa90fdfb890>)\n",
      "(275, 'activation_77', <keras.layers.core.Activation object at 0x7fa910297a50>)\n",
      "(276, 'mixed9_0', <keras.layers.merge.Concatenate object at 0x7fa91006aa50>)\n",
      "(277, 'concatenate_1', <keras.layers.merge.Concatenate object at 0x7fa90fe387d0>)\n",
      "(278, 'activation_85', <keras.layers.core.Activation object at 0x7fa90fe0ff90>)\n",
      "(279, 'mixed9', <keras.layers.merge.Concatenate object at 0x7fa90fdc73d0>)\n",
      "(280, 'conv2d_90', <keras.layers.convolutional.Conv2D object at 0x7fa90fb703d0>)\n",
      "(281, 'batch_normalization_90', <keras.layers.normalization.BatchNormalization object at 0x7fa90fb31a10>)\n",
      "(282, 'activation_90', <keras.layers.core.Activation object at 0x7fa90faf3210>)\n",
      "(283, 'conv2d_87', <keras.layers.convolutional.Conv2D object at 0x7fa90fd5e850>)\n",
      "(284, 'conv2d_91', <keras.layers.convolutional.Conv2D object at 0x7fa90fb04e90>)\n",
      "(285, 'batch_normalization_87', <keras.layers.normalization.BatchNormalization object at 0x7fa90fd4a090>)\n",
      "(286, 'batch_normalization_91', <keras.layers.normalization.BatchNormalization object at 0x7fa90fb042d0>)\n",
      "(287, 'activation_87', <keras.layers.core.Activation object at 0x7fa90fd20350>)\n",
      "(288, 'activation_91', <keras.layers.core.Activation object at 0x7fa90fa71d90>)\n",
      "(289, 'conv2d_88', <keras.layers.convolutional.Conv2D object at 0x7fa90fcda890>)\n",
      "(290, 'conv2d_89', <keras.layers.convolutional.Conv2D object at 0x7fa90fc61cd0>)\n",
      "(291, 'conv2d_92', <keras.layers.convolutional.Conv2D object at 0x7fa90fa9ca90>)\n",
      "(292, 'conv2d_93', <keras.layers.convolutional.Conv2D object at 0x7fa90f9ad650>)\n",
      "(293, 'average_pooling2d_9', <keras.layers.pooling.AveragePooling2D object at 0x7fa90f92b5d0>)\n",
      "(294, 'conv2d_86', <keras.layers.convolutional.Conv2D object at 0x7fa90fdb4e10>)\n",
      "(295, 'batch_normalization_88', <keras.layers.normalization.BatchNormalization object at 0x7fa90fccbc50>)\n",
      "(296, 'batch_normalization_89', <keras.layers.normalization.BatchNormalization object at 0x7fa90fbf09d0>)\n",
      "(297, 'batch_normalization_92', <keras.layers.normalization.BatchNormalization object at 0x7fa90faddb10>)\n",
      "(298, 'batch_normalization_93', <keras.layers.normalization.BatchNormalization object at 0x7fa90fa20a10>)\n",
      "(299, 'conv2d_94', <keras.layers.convolutional.Conv2D object at 0x7fa90f8eef90>)\n",
      "(300, 'batch_normalization_86', <keras.layers.normalization.BatchNormalization object at 0x7fa90fd75850>)\n",
      "(301, 'activation_88', <keras.layers.core.Activation object at 0x7fa90fc49750>)\n",
      "(302, 'activation_89', <keras.layers.core.Activation object at 0x7fa90fbb3a90>)\n",
      "(303, 'activation_92', <keras.layers.core.Activation object at 0x7fa90fa08950>)\n",
      "(304, 'activation_93', <keras.layers.core.Activation object at 0x7fa90f998510>)\n",
      "(305, 'batch_normalization_94', <keras.layers.normalization.BatchNormalization object at 0x7fa90f907e10>)\n",
      "(306, 'activation_86', <keras.layers.core.Activation object at 0x7fa90fda2fd0>)\n",
      "(307, 'mixed9_1', <keras.layers.merge.Concatenate object at 0x7fa90fb70890>)\n",
      "(308, 'concatenate_2', <keras.layers.merge.Concatenate object at 0x7fa90f92ba90>)\n",
      "(309, 'activation_94', <keras.layers.core.Activation object at 0x7fa90f8af510>)\n",
      "(310, 'mixed10', <keras.layers.merge.Concatenate object at 0x7fa90f8c3c50>)\n",
      "(311, 'sequential_1', <keras.models.Sequential object at 0x7fa90f78c8d0>)\n"
     ]
    }
   ],
   "source": [
    "for i,layer in enumerate(model.layers):\n",
    "    print (i, layer.name,layer)"
   ]
  },
  {
   "cell_type": "code",
   "execution_count": 29,
   "metadata": {},
   "outputs": [
    {
     "name": "stdout",
     "output_type": "stream",
     "text": [
      "lr = 1e-08\n",
      "momentum = 0.9\n",
      "number of frozen layers = 312\n"
     ]
    }
   ],
   "source": [
    "pretrained_model = \"part_3_weights\"\n",
    "weight_dir = \"../model/%s\"%pretrained_model\n",
    "if not os.path.exists(weight_dir):\n",
    "    os.makedirs(weight_dir)\n",
    "\n",
    "best_weight_path = \"../model/best.h5\"\n",
    "best_acc = 0\n",
    "best_lr = 0\n",
    "best_momentum = 0\n",
    "best_frozen = 0\n",
    "num_parameter_sets = 1\n",
    "    \n",
    "# for i in range(num_parameter_sets):\n",
    "    \n",
    "#     lr = 10**np.random.uniform(low=-10, high=-5)\n",
    "    \n",
    "#     momentum = np.random.uniform(low = 0.7, high = 0.9)\n",
    "#     num_frozen = np.random.randint(300, high=312) #312 total\n",
    "\n",
    "lr = 10**-8\n",
    "momentum = 0.9\n",
    "num_frozen = 312\n",
    "print(\"lr = \" + str(lr))\n",
    "print(\"momentum = \" + str(momentum))\n",
    "print(\"number of frozen layers = \" + str(num_frozen))\n",
    "\n",
    "# for layer in model.layers:\n",
    "#     layer.trainable = True\n",
    "\n",
    "for layer in model.layers[:num_frozen]:\n",
    "    layer.trainable = False\n",
    "for layer in model.layers[280:]:\n",
    "    layer.trainable = True\n",
    "for layer in model.layers[311].layers:\n",
    "    layer.trainable = True\n",
    "\n",
    "    \n",
    "model.layers[311].load_weights(\"../model/part_3_weights/best_weights_inceptionv3_500.h5\")  \n",
    "model.layers[311].compile(loss='categorical_crossentropy',\n",
    "              optimizer=keras.optimizers.SGD(lr=lr,momentum=0.9),\n",
    "              metrics=['accuracy'])\n",
    "model.compile(loss='categorical_crossentropy',\n",
    "              optimizer=keras.optimizers.SGD(lr=lr,momentum=0.9),\n",
    "              metrics=['accuracy'])\n",
    "    \n",
    "    \n",
    "    "
   ]
  },
  {
   "cell_type": "code",
   "execution_count": 30,
   "metadata": {},
   "outputs": [
    {
     "name": "stdout",
     "output_type": "stream",
     "text": [
      "1772/1772 [==============================] - 84s    \n"
     ]
    }
   ],
   "source": [
    "loss, acc = model.evaluate(validation_data, validation_labels, batch_size=32, verbose=1, sample_weight=None)"
   ]
  },
  {
   "cell_type": "code",
   "execution_count": 31,
   "metadata": {
    "scrolled": true
   },
   "outputs": [
    {
     "name": "stdout",
     "output_type": "stream",
     "text": [
      "(1.5215515156631814, 0.58577878130747019)\n"
     ]
    }
   ],
   "source": [
    "print((loss,acc))"
   ]
  },
  {
   "cell_type": "code",
   "execution_count": 19,
   "metadata": {},
   "outputs": [
    {
     "data": {
      "text/plain": [
       "<tf.Variable 'momentum_3:0' shape=() dtype=float32_ref>"
      ]
     },
     "execution_count": 19,
     "metadata": {},
     "output_type": "execute_result"
    }
   ],
   "source": [
    "# for layer in model.layers:\n",
    "#     if layer.trainable:\n",
    "#         print(layer)\n",
    "#     print (layer.name)\n",
    "#     print('______')\n",
    "\n",
    "\n",
    "    "
   ]
  },
  {
   "cell_type": "code",
   "execution_count": 22,
   "metadata": {},
   "outputs": [],
   "source": [
    "# for layer in model.layers[311].layers:\n",
    "#     print layer\n",
    "\n"
   ]
  },
  {
   "cell_type": "code",
   "execution_count": 23,
   "metadata": {
    "collapsed": true
   },
   "outputs": [],
   "source": [
    "# model.fit_generator(\n",
    "#     train_generator,\n",
    "#     steps_per_epoch=(nb_train_samples // batch_size)+1,\n",
    "#     epochs=3,\n",
    "#     validation_data=validation_generator,\n",
    "#     validation_steps=(nb_validation_samples // batch_size)+1, pickle_safe=True, workers=1)\n"
   ]
  },
  {
   "cell_type": "code",
   "execution_count": 13,
   "metadata": {},
   "outputs": [
    {
     "name": "stdout",
     "output_type": "stream",
     "text": [
      "Train on 14313 samples, validate on 1772 samples\n",
      "Epoch 1/10\n",
      " 1856/14313 [==>...........................] - ETA: 634s - loss: 3.2256 - acc: 0.3955"
     ]
    },
    {
     "ename": "KeyboardInterrupt",
     "evalue": "",
     "output_type": "error",
     "traceback": [
      "\u001b[0;31m---------------------------------------------------------------------------\u001b[0m",
      "\u001b[0;31mKeyboardInterrupt\u001b[0m                         Traceback (most recent call last)",
      "\u001b[0;32m<ipython-input-13-e1c4e6e8a6e1>\u001b[0m in \u001b[0;36m<module>\u001b[0;34m()\u001b[0m\n\u001b[1;32m      5\u001b[0m               \u001b[0mepochs\u001b[0m\u001b[0;34m=\u001b[0m\u001b[0mepochs\u001b[0m\u001b[0;34m,\u001b[0m\u001b[0;34m\u001b[0m\u001b[0m\n\u001b[1;32m      6\u001b[0m               \u001b[0mbatch_size\u001b[0m\u001b[0;34m=\u001b[0m\u001b[0mbatch_size\u001b[0m\u001b[0;34m,\u001b[0m\u001b[0;34m\u001b[0m\u001b[0m\n\u001b[0;32m----> 7\u001b[0;31m               validation_data=(validation_data, validation_labels),callbacks=[checkpointer])\n\u001b[0m",
      "\u001b[0;32m/home/YYsAir/cs231/project/keras_tutorial/.env/local/lib/python2.7/site-packages/keras/engine/training.pyc\u001b[0m in \u001b[0;36mfit\u001b[0;34m(self, x, y, batch_size, epochs, verbose, callbacks, validation_split, validation_data, shuffle, class_weight, sample_weight, initial_epoch, **kwargs)\u001b[0m\n\u001b[1;32m   1496\u001b[0m                               \u001b[0mval_f\u001b[0m\u001b[0;34m=\u001b[0m\u001b[0mval_f\u001b[0m\u001b[0;34m,\u001b[0m \u001b[0mval_ins\u001b[0m\u001b[0;34m=\u001b[0m\u001b[0mval_ins\u001b[0m\u001b[0;34m,\u001b[0m \u001b[0mshuffle\u001b[0m\u001b[0;34m=\u001b[0m\u001b[0mshuffle\u001b[0m\u001b[0;34m,\u001b[0m\u001b[0;34m\u001b[0m\u001b[0m\n\u001b[1;32m   1497\u001b[0m                               \u001b[0mcallback_metrics\u001b[0m\u001b[0;34m=\u001b[0m\u001b[0mcallback_metrics\u001b[0m\u001b[0;34m,\u001b[0m\u001b[0;34m\u001b[0m\u001b[0m\n\u001b[0;32m-> 1498\u001b[0;31m                               initial_epoch=initial_epoch)\n\u001b[0m\u001b[1;32m   1499\u001b[0m \u001b[0;34m\u001b[0m\u001b[0m\n\u001b[1;32m   1500\u001b[0m     \u001b[0;32mdef\u001b[0m \u001b[0mevaluate\u001b[0m\u001b[0;34m(\u001b[0m\u001b[0mself\u001b[0m\u001b[0;34m,\u001b[0m \u001b[0mx\u001b[0m\u001b[0;34m,\u001b[0m \u001b[0my\u001b[0m\u001b[0;34m,\u001b[0m \u001b[0mbatch_size\u001b[0m\u001b[0;34m=\u001b[0m\u001b[0;36m32\u001b[0m\u001b[0;34m,\u001b[0m \u001b[0mverbose\u001b[0m\u001b[0;34m=\u001b[0m\u001b[0;36m1\u001b[0m\u001b[0;34m,\u001b[0m \u001b[0msample_weight\u001b[0m\u001b[0;34m=\u001b[0m\u001b[0mNone\u001b[0m\u001b[0;34m)\u001b[0m\u001b[0;34m:\u001b[0m\u001b[0;34m\u001b[0m\u001b[0m\n",
      "\u001b[0;32m/home/YYsAir/cs231/project/keras_tutorial/.env/local/lib/python2.7/site-packages/keras/engine/training.pyc\u001b[0m in \u001b[0;36m_fit_loop\u001b[0;34m(self, f, ins, out_labels, batch_size, epochs, verbose, callbacks, val_f, val_ins, shuffle, callback_metrics, initial_epoch)\u001b[0m\n\u001b[1;32m   1150\u001b[0m                 \u001b[0mbatch_logs\u001b[0m\u001b[0;34m[\u001b[0m\u001b[0;34m'size'\u001b[0m\u001b[0;34m]\u001b[0m \u001b[0;34m=\u001b[0m \u001b[0mlen\u001b[0m\u001b[0;34m(\u001b[0m\u001b[0mbatch_ids\u001b[0m\u001b[0;34m)\u001b[0m\u001b[0;34m\u001b[0m\u001b[0m\n\u001b[1;32m   1151\u001b[0m                 \u001b[0mcallbacks\u001b[0m\u001b[0;34m.\u001b[0m\u001b[0mon_batch_begin\u001b[0m\u001b[0;34m(\u001b[0m\u001b[0mbatch_index\u001b[0m\u001b[0;34m,\u001b[0m \u001b[0mbatch_logs\u001b[0m\u001b[0;34m)\u001b[0m\u001b[0;34m\u001b[0m\u001b[0m\n\u001b[0;32m-> 1152\u001b[0;31m                 \u001b[0mouts\u001b[0m \u001b[0;34m=\u001b[0m \u001b[0mf\u001b[0m\u001b[0;34m(\u001b[0m\u001b[0mins_batch\u001b[0m\u001b[0;34m)\u001b[0m\u001b[0;34m\u001b[0m\u001b[0m\n\u001b[0m\u001b[1;32m   1153\u001b[0m                 \u001b[0;32mif\u001b[0m \u001b[0;32mnot\u001b[0m \u001b[0misinstance\u001b[0m\u001b[0;34m(\u001b[0m\u001b[0mouts\u001b[0m\u001b[0;34m,\u001b[0m \u001b[0mlist\u001b[0m\u001b[0;34m)\u001b[0m\u001b[0;34m:\u001b[0m\u001b[0;34m\u001b[0m\u001b[0m\n\u001b[1;32m   1154\u001b[0m                     \u001b[0mouts\u001b[0m \u001b[0;34m=\u001b[0m \u001b[0;34m[\u001b[0m\u001b[0mouts\u001b[0m\u001b[0;34m]\u001b[0m\u001b[0;34m\u001b[0m\u001b[0m\n",
      "\u001b[0;32m/home/YYsAir/cs231/project/keras_tutorial/.env/local/lib/python2.7/site-packages/keras/backend/tensorflow_backend.pyc\u001b[0m in \u001b[0;36m__call__\u001b[0;34m(self, inputs)\u001b[0m\n\u001b[1;32m   2227\u001b[0m         \u001b[0msession\u001b[0m \u001b[0;34m=\u001b[0m \u001b[0mget_session\u001b[0m\u001b[0;34m(\u001b[0m\u001b[0;34m)\u001b[0m\u001b[0;34m\u001b[0m\u001b[0m\n\u001b[1;32m   2228\u001b[0m         updated = session.run(self.outputs + [self.updates_op],\n\u001b[0;32m-> 2229\u001b[0;31m                               feed_dict=feed_dict)\n\u001b[0m\u001b[1;32m   2230\u001b[0m         \u001b[0;32mreturn\u001b[0m \u001b[0mupdated\u001b[0m\u001b[0;34m[\u001b[0m\u001b[0;34m:\u001b[0m\u001b[0mlen\u001b[0m\u001b[0;34m(\u001b[0m\u001b[0mself\u001b[0m\u001b[0;34m.\u001b[0m\u001b[0moutputs\u001b[0m\u001b[0;34m)\u001b[0m\u001b[0;34m]\u001b[0m\u001b[0;34m\u001b[0m\u001b[0m\n\u001b[1;32m   2231\u001b[0m \u001b[0;34m\u001b[0m\u001b[0m\n",
      "\u001b[0;32m/home/YYsAir/cs231/project/keras_tutorial/.env/local/lib/python2.7/site-packages/tensorflow/python/client/session.pyc\u001b[0m in \u001b[0;36mrun\u001b[0;34m(self, fetches, feed_dict, options, run_metadata)\u001b[0m\n\u001b[1;32m    776\u001b[0m     \u001b[0;32mtry\u001b[0m\u001b[0;34m:\u001b[0m\u001b[0;34m\u001b[0m\u001b[0m\n\u001b[1;32m    777\u001b[0m       result = self._run(None, fetches, feed_dict, options_ptr,\n\u001b[0;32m--> 778\u001b[0;31m                          run_metadata_ptr)\n\u001b[0m\u001b[1;32m    779\u001b[0m       \u001b[0;32mif\u001b[0m \u001b[0mrun_metadata\u001b[0m\u001b[0;34m:\u001b[0m\u001b[0;34m\u001b[0m\u001b[0m\n\u001b[1;32m    780\u001b[0m         \u001b[0mproto_data\u001b[0m \u001b[0;34m=\u001b[0m \u001b[0mtf_session\u001b[0m\u001b[0;34m.\u001b[0m\u001b[0mTF_GetBuffer\u001b[0m\u001b[0;34m(\u001b[0m\u001b[0mrun_metadata_ptr\u001b[0m\u001b[0;34m)\u001b[0m\u001b[0;34m\u001b[0m\u001b[0m\n",
      "\u001b[0;32m/home/YYsAir/cs231/project/keras_tutorial/.env/local/lib/python2.7/site-packages/tensorflow/python/client/session.pyc\u001b[0m in \u001b[0;36m_run\u001b[0;34m(self, handle, fetches, feed_dict, options, run_metadata)\u001b[0m\n\u001b[1;32m    980\u001b[0m     \u001b[0;32mif\u001b[0m \u001b[0mfinal_fetches\u001b[0m \u001b[0;32mor\u001b[0m \u001b[0mfinal_targets\u001b[0m\u001b[0;34m:\u001b[0m\u001b[0;34m\u001b[0m\u001b[0m\n\u001b[1;32m    981\u001b[0m       results = self._do_run(handle, final_targets, final_fetches,\n\u001b[0;32m--> 982\u001b[0;31m                              feed_dict_string, options, run_metadata)\n\u001b[0m\u001b[1;32m    983\u001b[0m     \u001b[0;32melse\u001b[0m\u001b[0;34m:\u001b[0m\u001b[0;34m\u001b[0m\u001b[0m\n\u001b[1;32m    984\u001b[0m       \u001b[0mresults\u001b[0m \u001b[0;34m=\u001b[0m \u001b[0;34m[\u001b[0m\u001b[0;34m]\u001b[0m\u001b[0;34m\u001b[0m\u001b[0m\n",
      "\u001b[0;32m/home/YYsAir/cs231/project/keras_tutorial/.env/local/lib/python2.7/site-packages/tensorflow/python/client/session.pyc\u001b[0m in \u001b[0;36m_do_run\u001b[0;34m(self, handle, target_list, fetch_list, feed_dict, options, run_metadata)\u001b[0m\n\u001b[1;32m   1030\u001b[0m     \u001b[0;32mif\u001b[0m \u001b[0mhandle\u001b[0m \u001b[0;32mis\u001b[0m \u001b[0mNone\u001b[0m\u001b[0;34m:\u001b[0m\u001b[0;34m\u001b[0m\u001b[0m\n\u001b[1;32m   1031\u001b[0m       return self._do_call(_run_fn, self._session, feed_dict, fetch_list,\n\u001b[0;32m-> 1032\u001b[0;31m                            target_list, options, run_metadata)\n\u001b[0m\u001b[1;32m   1033\u001b[0m     \u001b[0;32melse\u001b[0m\u001b[0;34m:\u001b[0m\u001b[0;34m\u001b[0m\u001b[0m\n\u001b[1;32m   1034\u001b[0m       return self._do_call(_prun_fn, self._session, handle, feed_dict,\n",
      "\u001b[0;32m/home/YYsAir/cs231/project/keras_tutorial/.env/local/lib/python2.7/site-packages/tensorflow/python/client/session.pyc\u001b[0m in \u001b[0;36m_do_call\u001b[0;34m(self, fn, *args)\u001b[0m\n\u001b[1;32m   1037\u001b[0m   \u001b[0;32mdef\u001b[0m \u001b[0m_do_call\u001b[0m\u001b[0;34m(\u001b[0m\u001b[0mself\u001b[0m\u001b[0;34m,\u001b[0m \u001b[0mfn\u001b[0m\u001b[0;34m,\u001b[0m \u001b[0;34m*\u001b[0m\u001b[0margs\u001b[0m\u001b[0;34m)\u001b[0m\u001b[0;34m:\u001b[0m\u001b[0;34m\u001b[0m\u001b[0m\n\u001b[1;32m   1038\u001b[0m     \u001b[0;32mtry\u001b[0m\u001b[0;34m:\u001b[0m\u001b[0;34m\u001b[0m\u001b[0m\n\u001b[0;32m-> 1039\u001b[0;31m       \u001b[0;32mreturn\u001b[0m \u001b[0mfn\u001b[0m\u001b[0;34m(\u001b[0m\u001b[0;34m*\u001b[0m\u001b[0margs\u001b[0m\u001b[0;34m)\u001b[0m\u001b[0;34m\u001b[0m\u001b[0m\n\u001b[0m\u001b[1;32m   1040\u001b[0m     \u001b[0;32mexcept\u001b[0m \u001b[0merrors\u001b[0m\u001b[0;34m.\u001b[0m\u001b[0mOpError\u001b[0m \u001b[0;32mas\u001b[0m \u001b[0me\u001b[0m\u001b[0;34m:\u001b[0m\u001b[0;34m\u001b[0m\u001b[0m\n\u001b[1;32m   1041\u001b[0m       \u001b[0mmessage\u001b[0m \u001b[0;34m=\u001b[0m \u001b[0mcompat\u001b[0m\u001b[0;34m.\u001b[0m\u001b[0mas_text\u001b[0m\u001b[0;34m(\u001b[0m\u001b[0me\u001b[0m\u001b[0;34m.\u001b[0m\u001b[0mmessage\u001b[0m\u001b[0;34m)\u001b[0m\u001b[0;34m\u001b[0m\u001b[0m\n",
      "\u001b[0;32m/home/YYsAir/cs231/project/keras_tutorial/.env/local/lib/python2.7/site-packages/tensorflow/python/client/session.pyc\u001b[0m in \u001b[0;36m_run_fn\u001b[0;34m(session, feed_dict, fetch_list, target_list, options, run_metadata)\u001b[0m\n\u001b[1;32m   1019\u001b[0m         return tf_session.TF_Run(session, options,\n\u001b[1;32m   1020\u001b[0m                                  \u001b[0mfeed_dict\u001b[0m\u001b[0;34m,\u001b[0m \u001b[0mfetch_list\u001b[0m\u001b[0;34m,\u001b[0m \u001b[0mtarget_list\u001b[0m\u001b[0;34m,\u001b[0m\u001b[0;34m\u001b[0m\u001b[0m\n\u001b[0;32m-> 1021\u001b[0;31m                                  status, run_metadata)\n\u001b[0m\u001b[1;32m   1022\u001b[0m \u001b[0;34m\u001b[0m\u001b[0m\n\u001b[1;32m   1023\u001b[0m     \u001b[0;32mdef\u001b[0m \u001b[0m_prun_fn\u001b[0m\u001b[0;34m(\u001b[0m\u001b[0msession\u001b[0m\u001b[0;34m,\u001b[0m \u001b[0mhandle\u001b[0m\u001b[0;34m,\u001b[0m \u001b[0mfeed_dict\u001b[0m\u001b[0;34m,\u001b[0m \u001b[0mfetch_list\u001b[0m\u001b[0;34m)\u001b[0m\u001b[0;34m:\u001b[0m\u001b[0;34m\u001b[0m\u001b[0m\n",
      "\u001b[0;31mKeyboardInterrupt\u001b[0m: "
     ]
    }
   ],
   "source": [
    "epochs =10\n",
    "weight_path = \"../model/finetune/finetune_weights.h5\"\n",
    "checkpointer = keras.callbacks.ModelCheckpoint(filepath=weight_path, verbose=1,monitor='val_acc', save_best_only=True)\n",
    "model.fit(train_data, train_labels,\n",
    "              epochs=epochs,\n",
    "              batch_size=batch_size,\n",
    "              validation_data=(validation_data, validation_labels),callbacks=[checkpointer])"
   ]
  },
  {
   "cell_type": "code",
   "execution_count": null,
   "metadata": {
    "collapsed": true
   },
   "outputs": [],
   "source": [
    "loss, acc = model.evaluate(validation_data, validation_labels, batch_size=32, verbose=1, sample_weight=None)"
   ]
  },
  {
   "cell_type": "code",
   "execution_count": null,
   "metadata": {
    "collapsed": true
   },
   "outputs": [],
   "source": [
    "print((loss, acc))"
   ]
  },
  {
   "cell_type": "code",
   "execution_count": null,
   "metadata": {
    "collapsed": true
   },
   "outputs": [],
   "source": [
    "datagen = ImageDataGenerator(rescale=1. / 255)\n",
    "model = Sequential()\n",
    "model.add(Dropout(0,input_shape = (img_width,img_height,3)))\n",
    "\n",
    "\n",
    "generator = datagen.flow_from_directory(\n",
    "    train_data_dir,\n",
    "    target_size=(img_width, img_height),\n",
    "    batch_size=batch_size,\n",
    "    class_mode=None,\n",
    "    shuffle=False)\n",
    "img_train = model.predict_generator(\n",
    "    generator, nb_train_samples // 32+1, verbose=True, pickle_safe=True, workers=1)\n",
    "del model\n",
    "np.save(open('../data/image_train.npy', 'w'),\n",
    "        img_train)"
   ]
  },
  {
   "cell_type": "code",
   "execution_count": null,
   "metadata": {
    "collapsed": true
   },
   "outputs": [],
   "source": []
  }
 ],
 "metadata": {
  "kernelspec": {
   "display_name": "Python 2",
   "language": "python",
   "name": "python2"
  },
  "language_info": {
   "codemirror_mode": {
    "name": "ipython",
    "version": 2
   },
   "file_extension": ".py",
   "mimetype": "text/x-python",
   "name": "python",
   "nbconvert_exporter": "python",
   "pygments_lexer": "ipython2",
   "version": "2.7.12"
  }
 },
 "nbformat": 4,
 "nbformat_minor": 1
}
