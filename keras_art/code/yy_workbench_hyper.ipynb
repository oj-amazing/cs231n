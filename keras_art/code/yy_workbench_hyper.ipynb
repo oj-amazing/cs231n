{
 "cells": [
  {
   "cell_type": "code",
   "execution_count": 1,
   "metadata": {},
   "outputs": [
    {
     "name": "stderr",
     "output_type": "stream",
     "text": [
      "Using TensorFlow backend.\n"
     ]
    }
   ],
   "source": [
    "import numpy as np\n",
    "from keras.preprocessing.image import ImageDataGenerator\n",
    "from keras.models import Sequential\n",
    "from keras.layers import Dropout, Flatten, Dense\n",
    "from keras import applications\n",
    "\n",
    "# dimensions of our images.\n",
    "# img_width, img_height = 224, 224\n",
    "img_width, img_height = 500, 500\n",
    "\n",
    "pretrained_model = \"inceptionv3_500_small\"\n",
    "\n",
    "\n",
    "top_model_weights_path = '../model/bottleneck_fc_model_%s.h5'%pretrained_model\n",
    "train_data_dir = '../data/Pandora18K_small_train_val_test_split/train'\n",
    "validation_data_dir = '../data/Pandora18K_small_train_val_test_split/val'\n",
    "test_data_dir = '../data/Pandora18K_small_train_val_test_split/test'\n",
    "nb_train_samples = 1462\n",
    "nb_validation_samples = 167\n",
    "nb_test_samples = 171\n",
    "# train_data_dir = '../data/Pandora18K_train_val_test_split/train'\n",
    "# validation_data_dir = '../data/Pandora18K_train_val_test_split/val'\n",
    "# test_data_dir = '../data/Pandora18K_train_val_test_split/test'\n",
    "# nb_train_samples = 14313\n",
    "# nb_validation_samples = 1772\n",
    "# nb_test_samples = 1791\n",
    "\n",
    "epochs = 50\n",
    "batch_size = 64\n",
    "\n"
   ]
  },
  {
   "cell_type": "code",
   "execution_count": 2,
   "metadata": {
    "collapsed": true
   },
   "outputs": [],
   "source": [
    "datagen = ImageDataGenerator(rescale=1. / 255)\n",
    "# build the VGG16 network\n",
    "# model = applications.VGG16(include_top=False, weights='imagenet')\n",
    "model = applications.inception_v3.InceptionV3(include_top=False, weights='imagenet')"
   ]
  },
  {
   "cell_type": "code",
   "execution_count": 3,
   "metadata": {
    "collapsed": true
   },
   "outputs": [],
   "source": [
    "from keras.utils.np_utils import to_categorical\n",
    "\n",
    "train_data = np.load(open('../model/bottleneck_features_train_%s.npy'%pretrained_model))\n",
    "#full\n",
    "#train_labels = np.array([0]*684+[1]*598+[2]*655+[3]*657+[4]*808+[5]*675+[6]*715+[7]*946+[8]*995+[9]*1021+[10]*803+[11]*816+[12]*566+[13]*959+[14]*842+[15]*831+[16]*849+[17]*893)\n",
    "\n",
    "#small\n",
    "train_labels = np.array([0]*78+[1]*79+[2]*77+[3]*85+[4]*78+[5]*87+[6]*80+[7]*81+[8]*81+[9]*80+[10]*85+[11]*83+[12]*74+[13]*87+[14]*83+[15]*83+[16]*78+[17]*83)\n",
    "\n",
    "train_labels = to_categorical(train_labels, num_classes=18)\n",
    "\n",
    "validation_data = np.load(open('../model/bottleneck_features_validation_%s.npy'%pretrained_model))\n",
    "#full\n",
    "#validation_labels = np.array([0]*72+[1]*73+[2]*72+[3]*93+[4]*78+[5]*74+[6]*85+[7]*124+[8]*131+[9]*118+[10]*109+[11]*105+[12]*80+[13]*130+[14]*108+[15]*89+[16]*111+[17]*120)\n",
    "\n",
    "#small\n",
    "validation_labels = np.array([0]*8+[1]*10+[2]*11+[3]*5+[4]*11+[5]*6+[6]*8+[7]*8+[8]*9+[9]*12+[10]*7+[11]*10+[12]*14+[13]*5+[14]*11+[15]*11+[16]*12+[17]*9)\n",
    "validation_labels = to_categorical(validation_labels, num_classes=18)\n",
    "\n",
    "test_data = np.load(open('../model/bottleneck_features_test_%s.npy'%pretrained_model))\n",
    "#full\n",
    "#test_labels = np.array([0]*91+[1]*60+[2]*75+[3]*82+[4]*104+[5]*83+[6]*95+[7]*121+[8]*131+[9]*123+[10]*103+[11]*117+[12]*65+[13]*123+[14]*121+[15]*112+[16]*89+[17]*96)\n",
    "\n",
    "#small\n",
    "test_labels = np.array([0]*14+[1]*11+[2]*12+[3]*10+[4]*11+[5]*7+[6]*12+[7]*11+[8]*10+[9]*8+[10]*8+[11]*7+[12]*12+[13]*8+[14]*6+[15]*6+[16]*10+[17]*8)\n",
    "test_labels = to_categorical(test_labels, num_classes=18)"
   ]
  },
  {
   "cell_type": "code",
   "execution_count": 8,
   "metadata": {},
   "outputs": [
    {
     "name": "stdout",
     "output_type": "stream",
     "text": [
      "Train on 1462 samples, validate on 167 samples\n",
      "Epoch 1/50\n",
      "1408/1462 [===========================>..] - ETA: 0s - loss: 3.5272 - acc: 0.0902Epoch 00000: val_acc improved from -inf to 0.08982, saving model to ../model/inceptionv3_500_small/best_weightsinceptionv3_500_small.h5\n",
      "1462/1462 [==============================] - 10s - loss: 3.5089 - acc: 0.0896 - val_loss: 2.7344 - val_acc: 0.0898\n",
      "Epoch 2/50\n",
      "1408/1462 [===========================>..] - ETA: 0s - loss: 2.6158 - acc: 0.1548Epoch 00001: val_acc improved from 0.08982 to 0.17365, saving model to ../model/inceptionv3_500_small/best_weightsinceptionv3_500_small.h5\n",
      "1462/1462 [==============================] - 18s - loss: 2.6153 - acc: 0.1546 - val_loss: 2.6487 - val_acc: 0.1737\n",
      "Epoch 3/50\n",
      "1408/1462 [===========================>..] - ETA: 0s - loss: 2.4296 - acc: 0.2081Epoch 00002: val_acc improved from 0.17365 to 0.20359, saving model to ../model/inceptionv3_500_small/best_weightsinceptionv3_500_small.h5\n",
      "1462/1462 [==============================] - 17s - loss: 2.4376 - acc: 0.2038 - val_loss: 2.4732 - val_acc: 0.2036\n",
      "Epoch 4/50\n",
      "1408/1462 [===========================>..] - ETA: 0s - loss: 2.4080 - acc: 0.2031Epoch 00003: val_acc did not improve\n",
      "1462/1462 [==============================] - 6s - loss: 2.4029 - acc: 0.2038 - val_loss: 2.5204 - val_acc: 0.1856\n",
      "Epoch 5/50\n",
      "1408/1462 [===========================>..] - ETA: 0s - loss: 2.2489 - acc: 0.2351Epoch 00004: val_acc improved from 0.20359 to 0.22754, saving model to ../model/inceptionv3_500_small/best_weightsinceptionv3_500_small.h5\n",
      "1462/1462 [==============================] - 18s - loss: 2.2498 - acc: 0.2387 - val_loss: 2.5029 - val_acc: 0.2275\n",
      "Epoch 6/50\n",
      "1408/1462 [===========================>..] - ETA: 0s - loss: 2.2032 - acc: 0.2599Epoch 00005: val_acc did not improve\n",
      "1462/1462 [==============================] - 6s - loss: 2.2031 - acc: 0.2606 - val_loss: 2.4008 - val_acc: 0.2216\n",
      "Epoch 7/50\n",
      "1408/1462 [===========================>..] - ETA: 0s - loss: 2.0984 - acc: 0.2713Epoch 00006: val_acc improved from 0.22754 to 0.26946, saving model to ../model/inceptionv3_500_small/best_weightsinceptionv3_500_small.h5\n",
      "1462/1462 [==============================] - 18s - loss: 2.1013 - acc: 0.2695 - val_loss: 2.4229 - val_acc: 0.2695\n",
      "Epoch 8/50\n",
      "1408/1462 [===========================>..] - ETA: 0s - loss: 1.9512 - acc: 0.3224Epoch 00007: val_acc improved from 0.26946 to 0.30539, saving model to ../model/inceptionv3_500_small/best_weightsinceptionv3_500_small.h5\n",
      "1462/1462 [==============================] - 18s - loss: 1.9439 - acc: 0.3235 - val_loss: 2.3179 - val_acc: 0.3054\n",
      "Epoch 9/50\n",
      "1408/1462 [===========================>..] - ETA: 0s - loss: 1.7991 - acc: 0.3608Epoch 00008: val_acc improved from 0.30539 to 0.31737, saving model to ../model/inceptionv3_500_small/best_weightsinceptionv3_500_small.h5\n",
      "1462/1462 [==============================] - 17s - loss: 1.8035 - acc: 0.3611 - val_loss: 2.2221 - val_acc: 0.3174\n",
      "Epoch 10/50\n",
      "1408/1462 [===========================>..] - ETA: 0s - loss: 1.7479 - acc: 0.3594Epoch 00009: val_acc improved from 0.31737 to 0.31737, saving model to ../model/inceptionv3_500_small/best_weightsinceptionv3_500_small.h5\n",
      "1462/1462 [==============================] - 18s - loss: 1.7549 - acc: 0.3591 - val_loss: 2.2389 - val_acc: 0.3174\n",
      "Epoch 11/50\n",
      "1408/1462 [===========================>..] - ETA: 0s - loss: 1.6661 - acc: 0.3920Epoch 00010: val_acc did not improve\n",
      "1462/1462 [==============================] - 6s - loss: 1.6627 - acc: 0.3926 - val_loss: 2.1874 - val_acc: 0.2874\n",
      "Epoch 12/50\n",
      "1408/1462 [===========================>..] - ETA: 0s - loss: 1.6032 - acc: 0.3906Epoch 00011: val_acc improved from 0.31737 to 0.32335, saving model to ../model/inceptionv3_500_small/best_weightsinceptionv3_500_small.h5\n",
      "1462/1462 [==============================] - 17s - loss: 1.6061 - acc: 0.3919 - val_loss: 2.1484 - val_acc: 0.3234\n",
      "Epoch 13/50\n",
      "1408/1462 [===========================>..] - ETA: 0s - loss: 1.5179 - acc: 0.4261Epoch 00012: val_acc improved from 0.32335 to 0.35329, saving model to ../model/inceptionv3_500_small/best_weightsinceptionv3_500_small.h5\n",
      "1462/1462 [==============================] - 18s - loss: 1.5187 - acc: 0.4261 - val_loss: 2.0514 - val_acc: 0.3533\n",
      "Epoch 14/50\n",
      "1408/1462 [===========================>..] - ETA: 0s - loss: 1.4932 - acc: 0.4638Epoch 00013: val_acc improved from 0.35329 to 0.36527, saving model to ../model/inceptionv3_500_small/best_weightsinceptionv3_500_small.h5\n",
      "1462/1462 [==============================] - 18s - loss: 1.5069 - acc: 0.4583 - val_loss: 2.0715 - val_acc: 0.3653\n",
      "Epoch 15/50\n",
      "1408/1462 [===========================>..] - ETA: 0s - loss: 1.4093 - acc: 0.4645Epoch 00014: val_acc did not improve\n",
      "1462/1462 [==============================] - 6s - loss: 1.4123 - acc: 0.4651 - val_loss: 1.9691 - val_acc: 0.3293\n",
      "Epoch 16/50\n",
      "1408/1462 [===========================>..] - ETA: 0s - loss: 1.3310 - acc: 0.4901Epoch 00015: val_acc did not improve\n",
      "1462/1462 [==============================] - 6s - loss: 1.3287 - acc: 0.4904 - val_loss: 2.0956 - val_acc: 0.3293\n",
      "Epoch 17/50\n",
      "1408/1462 [===========================>..] - ETA: 0s - loss: 1.2318 - acc: 0.5341Epoch 00016: val_acc did not improve\n",
      "1462/1462 [==============================] - 6s - loss: 1.2295 - acc: 0.5342 - val_loss: 2.0983 - val_acc: 0.3473\n",
      "Epoch 18/50\n",
      "1408/1462 [===========================>..] - ETA: 0s - loss: 1.2401 - acc: 0.5256Epoch 00017: val_acc did not improve\n",
      "1462/1462 [==============================] - 6s - loss: 1.2389 - acc: 0.5274 - val_loss: 2.0532 - val_acc: 0.3353\n",
      "Epoch 19/50\n",
      "1408/1462 [===========================>..] - ETA: 0s - loss: 1.1206 - acc: 0.5895Epoch 00018: val_acc did not improve\n",
      "1462/1462 [==============================] - 6s - loss: 1.1217 - acc: 0.5889 - val_loss: 2.1187 - val_acc: 0.3293\n",
      "Epoch 20/50\n",
      "1408/1462 [===========================>..] - ETA: 0s - loss: 1.1375 - acc: 0.5831Epoch 00019: val_acc improved from 0.36527 to 0.38323, saving model to ../model/inceptionv3_500_small/best_weightsinceptionv3_500_small.h5\n",
      "1462/1462 [==============================] - 18s - loss: 1.1291 - acc: 0.5862 - val_loss: 1.9792 - val_acc: 0.3832\n",
      "Epoch 21/50\n",
      "1408/1462 [===========================>..] - ETA: 0s - loss: 1.0780 - acc: 0.5824Epoch 00020: val_acc did not improve\n",
      "1462/1462 [==============================] - 7s - loss: 1.0768 - acc: 0.5841 - val_loss: 1.9728 - val_acc: 0.3713\n",
      "Epoch 22/50\n",
      "1408/1462 [===========================>..] - ETA: 0s - loss: 1.0373 - acc: 0.6236Epoch 00021: val_acc did not improve\n",
      "1462/1462 [==============================] - 6s - loss: 1.0314 - acc: 0.6265 - val_loss: 1.9636 - val_acc: 0.3653\n",
      "Epoch 23/50\n",
      "1408/1462 [===========================>..] - ETA: 0s - loss: 0.9677 - acc: 0.6222Epoch 00022: val_acc did not improve\n",
      "1462/1462 [==============================] - 6s - loss: 0.9689 - acc: 0.6238 - val_loss: 1.9157 - val_acc: 0.3832\n",
      "Epoch 24/50\n",
      "1408/1462 [===========================>..] - ETA: 0s - loss: 0.9218 - acc: 0.6314Epoch 00023: val_acc improved from 0.38323 to 0.40719, saving model to ../model/inceptionv3_500_small/best_weightsinceptionv3_500_small.h5\n",
      "1462/1462 [==============================] - 17s - loss: 0.9198 - acc: 0.6341 - val_loss: 1.9169 - val_acc: 0.4072\n",
      "Epoch 25/50\n",
      "1408/1462 [===========================>..] - ETA: 0s - loss: 0.9168 - acc: 0.6634Epoch 00024: val_acc did not improve\n",
      "1462/1462 [==============================] - 6s - loss: 0.9201 - acc: 0.6628 - val_loss: 1.9829 - val_acc: 0.3533\n",
      "Epoch 26/50\n",
      "1408/1462 [===========================>..] - ETA: 0s - loss: 0.8607 - acc: 0.6761Epoch 00025: val_acc improved from 0.40719 to 0.44311, saving model to ../model/inceptionv3_500_small/best_weightsinceptionv3_500_small.h5\n",
      "1462/1462 [==============================] - 17s - loss: 0.8573 - acc: 0.6785 - val_loss: 1.9367 - val_acc: 0.4431\n",
      "Epoch 27/50\n",
      "1408/1462 [===========================>..] - ETA: 0s - loss: 0.8288 - acc: 0.6903Epoch 00026: val_acc did not improve\n",
      "1462/1462 [==============================] - 6s - loss: 0.8335 - acc: 0.6881 - val_loss: 2.0756 - val_acc: 0.3952\n",
      "Epoch 28/50\n",
      "1408/1462 [===========================>..] - ETA: 0s - loss: 0.8340 - acc: 0.6783Epoch 00027: val_acc did not improve\n"
     ]
    },
    {
     "name": "stdout",
     "output_type": "stream",
     "text": [
      "1462/1462 [==============================] - 6s - loss: 0.8338 - acc: 0.6792 - val_loss: 2.0378 - val_acc: 0.4012\n",
      "Epoch 29/50\n",
      "1408/1462 [===========================>..] - ETA: 0s - loss: 0.7679 - acc: 0.7088Epoch 00028: val_acc did not improve\n",
      "1462/1462 [==============================] - 6s - loss: 0.7681 - acc: 0.7093 - val_loss: 2.0108 - val_acc: 0.3653\n",
      "Epoch 30/50\n",
      "1408/1462 [===========================>..] - ETA: 0s - loss: 0.7933 - acc: 0.7045Epoch 00029: val_acc did not improve\n",
      "1462/1462 [==============================] - 6s - loss: 0.7916 - acc: 0.7052 - val_loss: 2.0218 - val_acc: 0.3473\n",
      "Epoch 31/50\n",
      "1408/1462 [===========================>..] - ETA: 0s - loss: 0.7780 - acc: 0.6889Epoch 00030: val_acc did not improve\n",
      "1462/1462 [==============================] - 6s - loss: 0.7809 - acc: 0.6874 - val_loss: 1.9522 - val_acc: 0.4192\n",
      "Epoch 32/50\n",
      "1408/1462 [===========================>..] - ETA: 0s - loss: 0.7469 - acc: 0.7195Epoch 00031: val_acc did not improve\n",
      "1462/1462 [==============================] - 6s - loss: 0.7518 - acc: 0.7161 - val_loss: 1.9700 - val_acc: 0.4072\n",
      "Epoch 33/50\n",
      "1408/1462 [===========================>..] - ETA: 0s - loss: 0.7148 - acc: 0.7180Epoch 00032: val_acc did not improve\n",
      "1462/1462 [==============================] - 6s - loss: 0.7207 - acc: 0.7168 - val_loss: 1.9832 - val_acc: 0.4072\n",
      "Epoch 34/50\n",
      "1408/1462 [===========================>..] - ETA: 0s - loss: 0.7142 - acc: 0.7251Epoch 00033: val_acc did not improve\n",
      "1462/1462 [==============================] - 6s - loss: 0.7022 - acc: 0.7298 - val_loss: 2.0248 - val_acc: 0.3533\n",
      "Epoch 35/50\n",
      "1408/1462 [===========================>..] - ETA: 0s - loss: 0.6847 - acc: 0.7159Epoch 00034: val_acc did not improve\n",
      "1462/1462 [==============================] - 6s - loss: 0.6867 - acc: 0.7141 - val_loss: 2.0566 - val_acc: 0.3533\n",
      "Epoch 36/50\n",
      "1408/1462 [===========================>..] - ETA: 0s - loss: 0.6572 - acc: 0.7365Epoch 00035: val_acc did not improve\n",
      "1462/1462 [==============================] - 6s - loss: 0.6611 - acc: 0.7339 - val_loss: 1.9636 - val_acc: 0.4192\n",
      "Epoch 37/50\n",
      "1408/1462 [===========================>..] - ETA: 0s - loss: 0.6454 - acc: 0.7585Epoch 00036: val_acc did not improve\n",
      "1462/1462 [==============================] - 6s - loss: 0.6554 - acc: 0.7524 - val_loss: 2.0575 - val_acc: 0.3713\n",
      "Epoch 38/50\n",
      "1408/1462 [===========================>..] - ETA: 0s - loss: 0.6384 - acc: 0.7528Epoch 00037: val_acc did not improve\n",
      "1462/1462 [==============================] - 6s - loss: 0.6391 - acc: 0.7531 - val_loss: 2.0009 - val_acc: 0.3952\n",
      "Epoch 39/50\n",
      "1408/1462 [===========================>..] - ETA: 0s - loss: 0.6307 - acc: 0.7550Epoch 00038: val_acc did not improve\n",
      "1462/1462 [==============================] - 6s - loss: 0.6365 - acc: 0.7517 - val_loss: 2.1808 - val_acc: 0.3473\n",
      "Epoch 40/50\n",
      "1408/1462 [===========================>..] - ETA: 0s - loss: 0.6554 - acc: 0.7457Epoch 00039: val_acc did not improve\n",
      "1462/1462 [==============================] - 6s - loss: 0.6508 - acc: 0.7462 - val_loss: 2.0274 - val_acc: 0.4072\n",
      "Epoch 41/50\n",
      "1408/1462 [===========================>..] - ETA: 0s - loss: 0.6153 - acc: 0.7585Epoch 00040: val_acc did not improve\n",
      "1462/1462 [==============================] - 6s - loss: 0.6128 - acc: 0.7599 - val_loss: 2.0292 - val_acc: 0.4431\n",
      "Epoch 42/50\n",
      "1408/1462 [===========================>..] - ETA: 0s - loss: 0.6064 - acc: 0.7642Epoch 00041: val_acc did not improve\n",
      "1462/1462 [==============================] - 6s - loss: 0.6080 - acc: 0.7606 - val_loss: 2.2367 - val_acc: 0.3952\n",
      "Epoch 43/50\n",
      "1408/1462 [===========================>..] - ETA: 0s - loss: 0.5881 - acc: 0.7720Epoch 00042: val_acc improved from 0.44311 to 0.44910, saving model to ../model/inceptionv3_500_small/best_weightsinceptionv3_500_small.h5\n",
      "1462/1462 [==============================] - 17s - loss: 0.5852 - acc: 0.7729 - val_loss: 2.0626 - val_acc: 0.4491\n",
      "Epoch 44/50\n",
      "1408/1462 [===========================>..] - ETA: 0s - loss: 0.6055 - acc: 0.7571Epoch 00043: val_acc did not improve\n",
      "1462/1462 [==============================] - 6s - loss: 0.6120 - acc: 0.7544 - val_loss: 2.0566 - val_acc: 0.4072\n",
      "Epoch 45/50\n",
      "1408/1462 [===========================>..] - ETA: 0s - loss: 0.5570 - acc: 0.7713Epoch 00044: val_acc did not improve\n",
      "1462/1462 [==============================] - 6s - loss: 0.5548 - acc: 0.7722 - val_loss: 2.0402 - val_acc: 0.4132\n",
      "Epoch 46/50\n",
      "1408/1462 [===========================>..] - ETA: 0s - loss: 0.5736 - acc: 0.7784Epoch 00045: val_acc did not improve\n",
      "1462/1462 [==============================] - 6s - loss: 0.5708 - acc: 0.7798 - val_loss: 2.1583 - val_acc: 0.4192\n",
      "Epoch 47/50\n",
      "1408/1462 [===========================>..] - ETA: 0s - loss: 0.5427 - acc: 0.7812Epoch 00046: val_acc did not improve\n",
      "1462/1462 [==============================] - 6s - loss: 0.5453 - acc: 0.7811 - val_loss: 2.0566 - val_acc: 0.3713\n",
      "Epoch 48/50\n",
      "1408/1462 [===========================>..] - ETA: 0s - loss: 0.5740 - acc: 0.7749Epoch 00047: val_acc did not improve\n",
      "1462/1462 [==============================] - 6s - loss: 0.5761 - acc: 0.7709 - val_loss: 2.0798 - val_acc: 0.4012\n",
      "Epoch 49/50\n",
      "1408/1462 [===========================>..] - ETA: 0s - loss: 0.5420 - acc: 0.7820Epoch 00048: val_acc did not improve\n",
      "1462/1462 [==============================] - 6s - loss: 0.5418 - acc: 0.7811 - val_loss: 2.0595 - val_acc: 0.4072\n",
      "Epoch 50/50\n",
      "1408/1462 [===========================>..] - ETA: 0s - loss: 0.5408 - acc: 0.7855Epoch 00049: val_acc did not improve\n",
      "1462/1462 [==============================] - 6s - loss: 0.5501 - acc: 0.7839 - val_loss: 2.1238 - val_acc: 0.4192\n"
     ]
    },
    {
     "data": {
      "text/plain": [
       "<keras.callbacks.History at 0x7fa06a75e150>"
      ]
     },
     "execution_count": 8,
     "metadata": {},
     "output_type": "execute_result"
    }
   ],
   "source": [
    "import keras\n",
    "import os\n",
    "model = Sequential()\n",
    "model.add(Flatten(input_shape=train_data.shape[1:]))\n",
    "model.add(Dropout(0.6))\n",
    "model.add(Dense(256, activation='relu'))\n",
    "model.add(Dropout(0.6))\n",
    "model.add(Dense(18, activation='softmax'))\n",
    "\n",
    "model.compile(optimizer=keras.optimizers.Adam(lr=0.0001, beta_1=0.9, beta_2=0.999, epsilon=1e-08, decay=0.0),\n",
    "              loss='categorical_crossentropy', metrics=['accuracy'])\n",
    "\n",
    "\n",
    "weight_dir = \"../model/%s\"%pretrained_model\n",
    "if not os.path.exists(weight_dir):\n",
    "    os.makedirs(weight_dir)\n",
    "weight_path = os.path.join(weight_dir, \"best_weights%s.h5\"%pretrained_model)\n",
    "checkpointer = keras.callbacks.ModelCheckpoint(filepath=weight_path), verbose=1,monitor='val_acc', save_best_only=True)\n",
    "model.fit(train_data, train_labels,\n",
    "          epochs=epochs,\n",
    "          batch_size=batch_size,\n",
    "          validation_data=(validation_data, validation_labels),callbacks=[checkpointer])\n",
    "\n",
    "\n",
    "# model.save_weights(top_model_weights_path,overwrite=True)\n"
   ]
  },
  {
   "cell_type": "code",
   "execution_count": 14,
   "metadata": {},
   "outputs": [
    {
     "name": "stdout",
     "output_type": "stream",
     "text": [
      "171/171 [==============================] - 0s     \n"
     ]
    },
    {
     "data": {
      "text/plain": [
       "[2.1310109171951028, 0.41520467766544278]"
      ]
     },
     "execution_count": 14,
     "metadata": {},
     "output_type": "execute_result"
    }
   ],
   "source": [
    "model.load_weights(weight_path)\n",
    "model.evaluate(test_data, test_labels, batch_size=32, verbose=1, sample_weight=None)"
   ]
  },
  {
   "cell_type": "code",
   "execution_count": null,
   "metadata": {
    "collapsed": true
   },
   "outputs": [],
   "source": []
  }
 ],
 "metadata": {
  "kernelspec": {
   "display_name": "Python 2",
   "language": "python",
   "name": "python2"
  },
  "language_info": {
   "codemirror_mode": {
    "name": "ipython",
    "version": 2
   },
   "file_extension": ".py",
   "mimetype": "text/x-python",
   "name": "python",
   "nbconvert_exporter": "python",
   "pygments_lexer": "ipython2",
   "version": "2.7.12"
  }
 },
 "nbformat": 4,
 "nbformat_minor": 1
}
