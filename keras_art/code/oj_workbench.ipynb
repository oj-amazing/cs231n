{
 "cells": [
  {
   "cell_type": "markdown",
   "metadata": {},
   "source": [
    "## Importing from Keras"
   ]
  },
  {
   "cell_type": "code",
   "execution_count": 1,
   "metadata": {
    "collapsed": false
   },
   "outputs": [
    {
     "name": "stderr",
     "output_type": "stream",
     "text": [
      "Using TensorFlow backend.\n"
     ]
    }
   ],
   "source": [
    "from keras.preprocessing.image import ImageDataGenerator\n",
    "import keras"
   ]
  },
  {
   "cell_type": "code",
   "execution_count": 2,
   "metadata": {
    "collapsed": true
   },
   "outputs": [],
   "source": [
    "# dimensions of our images.\n",
    "img_width, img_height = 150, 150\n",
    "\n",
    "if keras.backend.image_data_format() == 'channels_first':\n",
    "    input_shape = (3, img_width, img_height)\n",
    "else:\n",
    "    input_shape = (img_width, img_height, 3)"
   ]
  },
  {
   "cell_type": "code",
   "execution_count": 3,
   "metadata": {
    "collapsed": false
   },
   "outputs": [],
   "source": [
    "model = keras.models.Sequential()\n",
    "model.add(keras.layers.Conv2D(32, (3, 3), input_shape=input_shape))\n",
    "model.add(keras.layers.Activation('relu'))\n",
    "model.add(keras.layers.MaxPooling2D(pool_size=(2, 2)))\n",
    "\n",
    "model.add(keras.layers.Conv2D(32, (3, 3)))\n",
    "model.add(keras.layers.Activation('relu'))\n",
    "model.add(keras.layers.MaxPooling2D(pool_size=(2, 2)))\n",
    "\n",
    "model.add(keras.layers.Conv2D(64, (3, 3)))\n",
    "model.add(keras.layers.Activation('relu'))\n",
    "model.add(keras.layers.MaxPooling2D(pool_size=(2, 2)))"
   ]
  },
  {
   "cell_type": "code",
   "execution_count": 4,
   "metadata": {
    "collapsed": true
   },
   "outputs": [],
   "source": [
    "model.add(keras.layers.Flatten())\n",
    "\n",
    "model.add(keras.layers.Dense(1024))\n",
    "model.add(keras.layers.Activation('relu'))\n",
    "model.add(keras.layers.Dropout(0.50))\n",
    "\n",
    "model.add(keras.layers.Dense(64))\n",
    "model.add(keras.layers.Activation('relu'))\n",
    "model.add(keras.layers.Dropout(0.50))\n",
    "\n",
    "model.add(keras.layers.Dense(18, activation='softmax'))"
   ]
  },
  {
   "cell_type": "code",
   "execution_count": 5,
   "metadata": {
    "collapsed": false
   },
   "outputs": [],
   "source": [
    "model.compile(loss='categorical_crossentropy',\n",
    "              optimizer=keras.optimizers.Adam(lr=0.0001, beta_1=0.9, beta_2=0.999, epsilon=1e-08, decay=0.0),\n",
    "              metrics=['accuracy'])"
   ]
  },
  {
   "cell_type": "code",
   "execution_count": 6,
   "metadata": {
    "collapsed": false
   },
   "outputs": [
    {
     "name": "stdout",
     "output_type": "stream",
     "text": [
      "Found 1447 images belonging to 18 classes.\n",
      "Found 353 images belonging to 18 classes.\n"
     ]
    }
   ],
   "source": [
    "train_data_dir = '../data/Pandora18K_small_train_val_split/train'\n",
    "validation_data_dir = '../data/Pandora18K_small_train_val_split/val'\n",
    "batch_size = 16\n",
    "\n",
    "# this is the augmentation configuration we will use for training\n",
    "train_datagen = ImageDataGenerator(\n",
    "    rescale=1. / 255)\n",
    "# ,\n",
    "#     shear_range=0.2,\n",
    "#     zoom_range=0.2,\n",
    "#     horizontal_flip=True)\n",
    "\n",
    "# this is the augmentation configuration we will use for testing:\n",
    "# only rescaling\n",
    "test_datagen = ImageDataGenerator(rescale=1. / 255)\n",
    "\n",
    "train_generator = train_datagen.flow_from_directory(\n",
    "    train_data_dir,\n",
    "    target_size=(img_width, img_height),\n",
    "    batch_size=batch_size,\n",
    "    class_mode='categorical')\n",
    "\n",
    "validation_generator = test_datagen.flow_from_directory(\n",
    "    validation_data_dir,\n",
    "    target_size=(img_width, img_height),\n",
    "    batch_size=batch_size,\n",
    "    class_mode='categorical')"
   ]
  },
  {
   "cell_type": "code",
   "execution_count": 10,
   "metadata": {
    "collapsed": false,
    "scrolled": true
   },
   "outputs": [],
   "source": [
    "import subprocess\n",
    "\n",
    "out = subprocess.Popen(['find', train_data_dir, '-name', '*.jpg'], stdout = subprocess.PIPE).communicate()\n",
    "nb_train_samples = out[0].count('\\n')+1\n",
    "\n",
    "out = subprocess.Popen(['find', validation_data_dir, '-name', '*.jpg'], stdout = subprocess.PIPE).communicate()\n",
    "nb_validation_samples = out[0].count('\\n')+1"
   ]
  },
  {
   "cell_type": "code",
   "execution_count": 11,
   "metadata": {
    "collapsed": false
   },
   "outputs": [
    {
     "name": "stdout",
     "output_type": "stream",
     "text": [
      "Epoch 1/50\n",
      "90/90 [==============================] - 10s - loss: 2.9049 - acc: 0.0535 - val_loss: 2.8856 - val_acc: 0.0625\n",
      "Epoch 2/50\n",
      "90/90 [==============================] - 8s - loss: 2.8818 - acc: 0.0664 - val_loss: 2.8787 - val_acc: 0.0564\n",
      "Epoch 3/50\n",
      "90/90 [==============================] - 8s - loss: 2.8469 - acc: 0.0807 - val_loss: 2.8397 - val_acc: 0.1157\n",
      "Epoch 4/50\n",
      "90/90 [==============================] - 8s - loss: 2.7937 - acc: 0.1056 - val_loss: 2.7538 - val_acc: 0.1098\n",
      "Epoch 5/50\n",
      "90/90 [==============================] - 8s - loss: 2.7220 - acc: 0.1347 - val_loss: 2.6700 - val_acc: 0.1662\n",
      "Epoch 6/50\n",
      "90/90 [==============================] - 8s - loss: 2.6531 - acc: 0.1684 - val_loss: 2.5975 - val_acc: 0.2047\n",
      "Epoch 7/50\n",
      "90/90 [==============================] - 8s - loss: 2.5769 - acc: 0.1960 - val_loss: 2.5387 - val_acc: 0.2433\n",
      "Epoch 8/50\n",
      "90/90 [==============================] - 8s - loss: 2.5154 - acc: 0.1981 - val_loss: 2.5067 - val_acc: 0.2315\n",
      "Epoch 9/50\n",
      "90/90 [==============================] - 8s - loss: 2.4337 - acc: 0.2238 - val_loss: 2.4516 - val_acc: 0.2226\n",
      "Epoch 10/50\n",
      "90/90 [==============================] - 8s - loss: 2.3696 - acc: 0.2473 - val_loss: 2.4217 - val_acc: 0.2226\n",
      "Epoch 11/50\n",
      "90/90 [==============================] - 8s - loss: 2.2790 - acc: 0.2896 - val_loss: 2.4045 - val_acc: 0.2374\n",
      "Epoch 12/50\n",
      "90/90 [==============================] - 8s - loss: 2.2129 - acc: 0.3087 - val_loss: 2.4044 - val_acc: 0.2196\n",
      "Epoch 13/50\n",
      "90/90 [==============================] - 8s - loss: 2.1026 - acc: 0.3511 - val_loss: 2.3732 - val_acc: 0.2315\n",
      "Epoch 14/50\n",
      "90/90 [==============================] - 8s - loss: 1.9855 - acc: 0.3751 - val_loss: 2.3549 - val_acc: 0.2285\n",
      "Epoch 15/50\n",
      "90/90 [==============================] - 8s - loss: 1.8745 - acc: 0.4257 - val_loss: 2.4134 - val_acc: 0.2463\n",
      "Epoch 16/50\n",
      "90/90 [==============================] - 8s - loss: 1.7778 - acc: 0.4418 - val_loss: 2.3716 - val_acc: 0.2700\n",
      "Epoch 17/50\n",
      "90/90 [==============================] - 8s - loss: 1.6668 - acc: 0.4818 - val_loss: 2.3544 - val_acc: 0.2700\n",
      "Epoch 18/50\n",
      "90/90 [==============================] - 8s - loss: 1.5005 - acc: 0.5392 - val_loss: 2.4346 - val_acc: 0.2493\n",
      "Epoch 19/50\n",
      "90/90 [==============================] - 8s - loss: 1.4114 - acc: 0.5579 - val_loss: 2.4327 - val_acc: 0.2641\n",
      "Epoch 20/50\n",
      "90/90 [==============================] - 8s - loss: 1.2972 - acc: 0.5983 - val_loss: 2.4534 - val_acc: 0.2433\n",
      "Epoch 21/50\n",
      "90/90 [==============================] - 8s - loss: 1.1998 - acc: 0.6161 - val_loss: 2.4576 - val_acc: 0.2552\n",
      "Epoch 22/50\n",
      "90/90 [==============================] - 8s - loss: 1.1019 - acc: 0.6531 - val_loss: 2.5288 - val_acc: 0.2374\n",
      "Epoch 23/50\n",
      "90/90 [==============================] - 8s - loss: 1.0032 - acc: 0.7126 - val_loss: 2.5969 - val_acc: 0.2493\n",
      "Epoch 24/50\n",
      "90/90 [==============================] - 8s - loss: 0.9214 - acc: 0.7165 - val_loss: 2.6210 - val_acc: 0.2582\n",
      "Epoch 25/50\n",
      "90/90 [==============================] - 8s - loss: 0.8596 - acc: 0.7422 - val_loss: 2.6910 - val_acc: 0.2582\n",
      "Epoch 26/50\n",
      "90/90 [==============================] - 8s - loss: 0.8100 - acc: 0.7604 - val_loss: 2.7026 - val_acc: 0.2552\n",
      "Epoch 27/50\n",
      "90/90 [==============================] - 8s - loss: 0.6801 - acc: 0.8028 - val_loss: 2.8207 - val_acc: 0.2582\n",
      "Epoch 28/50\n",
      "90/90 [==============================] - 8s - loss: 0.6289 - acc: 0.8072 - val_loss: 2.7907 - val_acc: 0.2552\n",
      "Epoch 29/50\n",
      "90/90 [==============================] - 8s - loss: 0.5911 - acc: 0.8215 - val_loss: 3.0224 - val_acc: 0.2404\n",
      "Epoch 30/50\n",
      "90/90 [==============================] - 8s - loss: 0.5332 - acc: 0.8424 - val_loss: 2.8381 - val_acc: 0.2611\n",
      "Epoch 31/50\n",
      "90/90 [==============================] - 8s - loss: 0.5004 - acc: 0.8528 - val_loss: 3.0077 - val_acc: 0.2522\n",
      "Epoch 32/50\n",
      "90/90 [==============================] - 8s - loss: 0.4868 - acc: 0.8548 - val_loss: 2.9997 - val_acc: 0.2700\n",
      "Epoch 33/50\n",
      "90/90 [==============================] - 8s - loss: 0.4199 - acc: 0.8833 - val_loss: 3.2215 - val_acc: 0.2433\n",
      "Epoch 34/50\n",
      "90/90 [==============================] - 8s - loss: 0.4347 - acc: 0.8715 - val_loss: 3.1389 - val_acc: 0.2404\n",
      "Epoch 35/50\n",
      "90/90 [==============================] - 8s - loss: 0.3652 - acc: 0.8929 - val_loss: 3.1427 - val_acc: 0.2404\n",
      "Epoch 36/50\n",
      "90/90 [==============================] - 8s - loss: 0.3539 - acc: 0.9000 - val_loss: 3.3106 - val_acc: 0.2493\n",
      "Epoch 37/50\n",
      "90/90 [==============================] - 8s - loss: 0.3207 - acc: 0.9123 - val_loss: 3.3302 - val_acc: 0.2730\n",
      "Epoch 38/50\n",
      "90/90 [==============================] - 8s - loss: 0.3133 - acc: 0.9062 - val_loss: 3.5391 - val_acc: 0.2463\n",
      "Epoch 39/50\n",
      "90/90 [==============================] - 8s - loss: 0.2926 - acc: 0.9264 - val_loss: 3.4083 - val_acc: 0.2285\n",
      "Epoch 40/50\n",
      "90/90 [==============================] - 8s - loss: 0.2804 - acc: 0.9167 - val_loss: 3.5452 - val_acc: 0.2611\n",
      "Epoch 41/50\n",
      "90/90 [==============================] - 8s - loss: 0.2650 - acc: 0.9316 - val_loss: 3.5083 - val_acc: 0.2611\n",
      "Epoch 42/50\n",
      "90/90 [==============================] - 8s - loss: 0.2488 - acc: 0.9297 - val_loss: 3.4635 - val_acc: 0.2463\n",
      "Epoch 43/50\n",
      "90/90 [==============================] - 8s - loss: 0.2717 - acc: 0.9262 - val_loss: 3.7336 - val_acc: 0.2433\n",
      "Epoch 44/50\n",
      "90/90 [==============================] - 8s - loss: 0.2525 - acc: 0.9215 - val_loss: 3.5716 - val_acc: 0.2463\n",
      "Epoch 45/50\n",
      "90/90 [==============================] - 8s - loss: 0.2147 - acc: 0.9417 - val_loss: 3.6138 - val_acc: 0.2463\n",
      "Epoch 46/50\n",
      "90/90 [==============================] - 8s - loss: 0.2024 - acc: 0.9505 - val_loss: 3.6635 - val_acc: 0.2463\n",
      "Epoch 47/50\n",
      "90/90 [==============================] - 8s - loss: 0.1971 - acc: 0.9451 - val_loss: 4.1290 - val_acc: 0.2344\n",
      "Epoch 48/50\n",
      "90/90 [==============================] - 8s - loss: 0.1806 - acc: 0.9507 - val_loss: 3.8196 - val_acc: 0.2641\n",
      "Epoch 49/50\n",
      "90/90 [==============================] - 8s - loss: 0.1698 - acc: 0.9576 - val_loss: 3.8157 - val_acc: 0.2166\n",
      "Epoch 50/50\n",
      "90/90 [==============================] - 8s - loss: 0.1676 - acc: 0.9597 - val_loss: 3.7636 - val_acc: 0.2404\n"
     ]
    }
   ],
   "source": [
    "epochs = 50\n",
    "\n",
    "model.fit_generator(\n",
    "    train_generator,\n",
    "    steps_per_epoch=nb_train_samples // batch_size,\n",
    "    epochs=epochs,\n",
    "    validation_data=validation_generator,\n",
    "    validation_steps=nb_validation_samples // batch_size)\n",
    "\n",
    "model.save_weights('../model/first_try.h5')"
   ]
  },
  {
   "cell_type": "code",
   "execution_count": null,
   "metadata": {
    "collapsed": true
   },
   "outputs": [],
   "source": []
  }
 ],
 "metadata": {
  "kernelspec": {
   "display_name": "Python 2",
   "language": "python",
   "name": "python2"
  },
  "language_info": {
   "codemirror_mode": {
    "name": "ipython",
    "version": 2
   },
   "file_extension": ".py",
   "mimetype": "text/x-python",
   "name": "python",
   "nbconvert_exporter": "python",
   "pygments_lexer": "ipython2",
   "version": "2.7.12"
  }
 },
 "nbformat": 4,
 "nbformat_minor": 0
}
