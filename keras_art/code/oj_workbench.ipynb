{
 "cells": [
  {
   "cell_type": "markdown",
   "metadata": {},
   "source": [
    "## Importing from Keras"
   ]
  },
  {
   "cell_type": "code",
   "execution_count": 1,
   "metadata": {},
   "outputs": [
    {
     "name": "stderr",
     "output_type": "stream",
     "text": [
      "Using TensorFlow backend.\n"
     ]
    }
   ],
   "source": [
    "import keras\n",
    "\n",
    "from keras.preprocessing.image import ImageDataGenerator"
   ]
  },
  {
   "cell_type": "code",
   "execution_count": 2,
   "metadata": {
    "collapsed": true
   },
   "outputs": [],
   "source": [
    "# dimensions of our images.\n",
    "img_width, img_height = 150, 150\n",
    "\n",
    "if keras.backend.image_data_format() == 'channels_first':\n",
    "    input_shape = (3, img_width, img_height)\n",
    "else:\n",
    "    input_shape = (img_width, img_height, 3)"
   ]
  },
  {
   "cell_type": "code",
   "execution_count": 3,
   "metadata": {},
   "outputs": [
    {
     "name": "stdout",
     "output_type": "stream",
     "text": [
      "Found 14572 images belonging to 18 classes.\n",
      "Found 1912 images belonging to 18 classes.\n",
      "Found 1933 images belonging to 18 classes.\n"
     ]
    }
   ],
   "source": [
    "train_dir = '../data/Pandora18K_small_train_val_test_split/train'\n",
    "valid_dir = '../data/Pandora18K_small_train_val_test_split/val'\n",
    "test_dir  = '../data/Pandora18K_small_train_val_test_split/test'\n",
    "batch_size = 16\n",
    "\n",
    "# this is the augmentation configuration we will use for training\n",
    "train_datagen = ImageDataGenerator(\n",
    "    rescale= 1./255,\n",
    "    shear_range=0.2,\n",
    "    zoom_range=0.2,\n",
    "    horizontal_flip=True)\n",
    "\n",
    "# this is the augmentation configuration we will use for testing:\n",
    "# only rescaling\n",
    "valid_datagen = ImageDataGenerator(rescale=1. / 255)\n",
    "test_datagen  = ImageDataGenerator(rescale=1. / 255)\n",
    "\n",
    "train_gen = train_datagen.flow_from_directory(\n",
    "    train_dir,\n",
    "    target_size=(img_width, img_height),\n",
    "    batch_size=batch_size,\n",
    "    class_mode='categorical')\n",
    "\n",
    "valid_gen = valid_datagen.flow_from_directory(\n",
    "    valid_dir,\n",
    "    target_size=(img_width, img_height),\n",
    "    batch_size=batch_size,\n",
    "    class_mode='categorical')\n",
    "\n",
    "test_gen = test_datagen.flow_from_directory(\n",
    "    test_dir,\n",
    "    target_size=(img_width, img_height),\n",
    "    batch_size=batch_size,\n",
    "    class_mode='categorical')"
   ]
  },
  {
   "cell_type": "code",
   "execution_count": 4,
   "metadata": {
    "scrolled": true
   },
   "outputs": [
    {
     "name": "stdout",
     "output_type": "stream",
     "text": [
      "Sanity check: 14572 train, 1912 valid, 1933 test\n"
     ]
    }
   ],
   "source": [
    "import subprocess\n",
    "\n",
    "out = subprocess.Popen(['find', train_dir, '-name', \"*\\.[jJ][pP][gG]\"], stdout = subprocess.PIPE).communicate()\n",
    "train_num = out[0].count('\\n')\n",
    "\n",
    "out = subprocess.Popen(['find', valid_dir, '-name', \"*\\.[jJ][pP][gG]\"], stdout = subprocess.PIPE).communicate()\n",
    "valid_num = out[0].count('\\n')\n",
    "\n",
    "out = subprocess.Popen(['find', test_dir, '-name', \"*\\.[jJ][pP][gG]\"], stdout = subprocess.PIPE).communicate()\n",
    "test_num = out[0].count('\\n')\n",
    "\n",
    "print(\"Sanity check: \" + str(train_num) + \" train, \" + str(valid_num) + \" valid, \" + str(test_num) + \" test\")"
   ]
  },
  {
   "cell_type": "code",
   "execution_count": 5,
   "metadata": {
    "collapsed": true
   },
   "outputs": [],
   "source": [
    "def create_model(input_shape):\n",
    "    \n",
    "    main_input = keras.layers.Input(shape=input_shape)\n",
    "    \n",
    "    # VGG19, 32-64-128-256-512-512\n",
    "    x = keras.layers.Conv2D(filters=8, kernel_size=(3, 3), activation=\"relu\", \\\n",
    "                                  input_shape=input_shape)(main_input)\n",
    "    x = keras.layers.Conv2D(filters=16, kernel_size=(3, 3), activation=\"relu\")(x)\n",
    "    x = keras.layers.Conv2D(filters=32, kernel_size=(3, 3), activation=\"relu\")(x)\n",
    "    x = keras.layers.Conv2D(filters=64, kernel_size=(3, 3), activation=\"relu\")(x)\n",
    "    x = keras.layers.MaxPooling2D(pool_size=(2, 2), strides=(2,2))(x)\n",
    "    \n",
    "    # [(None, 69, 69, 64), (None, 67, 67, 128), (None, 65, 65, 32), (None, 34, 34, 64)]\n",
    "    \n",
    "    # Inception 64 / 96-128-64 / 16-32-64\n",
    "    x11 = keras.layers.Conv2D(filters=32, kernel_size=(1, 1), activation=\"relu\", padding=\"same\")(x)\n",
    "    x13 = keras.layers.Conv2D(filters=16, kernel_size=(1, 1), activation=\"relu\")(x)\n",
    "    x33 = keras.layers.Conv2D(filters=64, kernel_size=(3,3), activation=\"relu\", padding=\"same\")(x13)\n",
    "    x31 = keras.layers.Conv2D(filters=32, kernel_size=(1, 1))(x33)\n",
    "    x15 = keras.layers.Conv2D(filters=8, kernel_size=(1, 1), activation=\"relu\")(x)\n",
    "    x55 = keras.layers.Conv2D(filters=32, kernel_size=(5, 5), activation=\"relu\", padding=\"same\")(x15)\n",
    "    x51 = keras.layers.Conv2D(filters=32, kernel_size=(1, 1))(x55)\n",
    "    x = keras.layers.concatenate([x11, x31, x51], axis=3)\n",
    "    \n",
    "    # Dense 4096-4096\n",
    "    x = keras.layers.Flatten()(x)\n",
    "    x = keras.layers.Dense(256, activation='relu')(x)\n",
    "    x = keras.layers.Dense(64, activation='relu')(x)\n",
    "    out = keras.layers.Dense(18, activation='softmax')(x)\n",
    "\n",
    "    model = keras.models.Model(main_input, out)\n",
    "    \n",
    "    return model"
   ]
  },
  {
   "cell_type": "code",
   "execution_count": null,
   "metadata": {},
   "outputs": [],
   "source": [
    "import os\n",
    "\n",
    "model_name = \"custom\"\n",
    "weight_dir = \"../model/%s\"%model_name\n",
    "if not os.path.exists(weight_dir):\n",
    "    os.makedirs(weight_dir)\n",
    "\n",
    "weight_path = os.path.join(weight_dir, \"temp_weights_%s.h5\"%model_name)\n",
    "best_weight_path = os.path.join(weight_dir, \"best_weights_%s.h5\"%model_name)"
   ]
  },
  {
   "cell_type": "code",
   "execution_count": null,
   "metadata": {
    "scrolled": false
   },
   "outputs": [
    {
     "name": "stdout",
     "output_type": "stream",
     "text": [
      "LR=0.00141419841257, B1=0.918675478651, B2=0.925966355141, E=5.2214491896e-09 Decay=0.448916016734\n",
      "Epoch 1/20\n",
      "909/910 [============================>.] - ETA: 0s - loss: 2.6116 - acc: 0.1696Epoch 00000: val_acc improved from -inf to 0.16492, saving model to ../model/custom/temp_weights_custom.h5\n",
      "910/910 [==============================] - 329s - loss: 2.6115 - acc: 0.1696 - val_loss: 2.5538 - val_acc: 0.1649\n",
      "Epoch 2/20\n",
      " 34/910 [>.............................] - ETA: 304s - loss: 2.5023 - acc: 0.1814"
     ]
    }
   ],
   "source": [
    "import numpy as np\n",
    "import pickle\n",
    "\n",
    "# Simulation parameters\n",
    "epochs = 20\n",
    "num_iters = 1\n",
    "\n",
    "# Training parameters\n",
    "learning_rates = [-3, -1]\n",
    "betas_1  = [0.9, 0.999]\n",
    "betas_2  = [0.9, 0.999]\n",
    "epsilons = [-9, -7]\n",
    "decays = 0.0\n",
    "\n",
    "# History parameters\n",
    "best_acc = -1\n",
    "best_params = ()\n",
    "history = dict()\n",
    "\n",
    "for _ in range(num_iters):\n",
    "    \n",
    "    ##### RANDOM HYPERPARAMETERS #####\n",
    "    \n",
    "    learning_rate = 10**np.random.uniform(learning_rates[0], \\\n",
    "                                          learning_rates[1])\n",
    "    beta_1  = np.random.uniform(betas_1[0], betas_1[1])\n",
    "    beta_2  = np.random.uniform(betas_2[0], betas_2[1])\n",
    "    epsilon = 10**np.random.uniform(epsilons[0], \\\n",
    "                                    epsilons[1])\n",
    "    decay   = np.random.uniform(decays)\n",
    "    \n",
    "    print (\"LR=\" + str(learning_rate) + \\\n",
    "           \", B1=\" + str(beta_1) + \\\n",
    "           \", B2=\" + str(beta_2) + \\\n",
    "           \", E=\" + str(epsilon) + \\\n",
    "           \" Decay=\" + str(decay))\n",
    "    \n",
    "    params = (learning_rate, beta_1, beta_2, epsilon, decay)\n",
    "    \n",
    "    ##### CREATING MODEL #####\n",
    "    \n",
    "    model = create_model(input_shape)\n",
    "    opt = keras.optimizers.Adam(lr=learning_rate, beta_1=beta_1, beta_2=beta_2, epsilon=epsilon, decay=decay)\n",
    "    model.compile(loss='categorical_crossentropy', optimizer=opt, metrics=['accuracy'])\n",
    "\n",
    "    ##### TRAINING MODEL #####\n",
    "\n",
    "    checkpointer = keras.callbacks.ModelCheckpoint(filepath=weight_path, verbose=1,monitor='val_acc', save_best_only=True)\n",
    "    stopper = keras.callbacks.EarlyStopping(monitor='val_acc', min_delta=0, patience=5, verbose=0, mode='auto')\n",
    "    keras.callbacks.ReduceLROnPlateau(monitor='val_loss', factor=0.1, patience=2, verbose=0, mode='auto', epsilon=0.0001, cooldown=0, min_lr=0)\n",
    "    \n",
    "    model.fit_generator(\n",
    "        train_gen,\n",
    "        steps_per_epoch=train_num // batch_size,\n",
    "        epochs=epochs,\n",
    "        validation_data=valid_gen,\n",
    "        validation_steps=valid_num // batch_size,\n",
    "        callbacks=[checkpointer,stopper])\n",
    "    \n",
    "    model.load_weights(weight_path)\n",
    "    loss, acc = model.evaluate_generator(\n",
    "        valid_gen,\n",
    "        steps = valid_num // batch_size)\n",
    "    print(\"Test accuracy： \" + str(acc))\n",
    "    \n",
    "    if acc>best_acc:\n",
    "        print(\"Saving as best accuracy\")\n",
    "        model.save_weights(best_weight_path)\n",
    "        best_params = params\n",
    "        best_acc = acc\n",
    "        \n",
    "    history[acc] = (loss, acc, params)\n",
    "    del model\n",
    "    \n",
    "pickle.dump(history, open(os.path.join(weight_dir,'history_%s.p'%model_name),'w'))"
   ]
  },
  {
   "cell_type": "code",
   "execution_count": null,
   "metadata": {},
   "outputs": [],
   "source": [
    "model = create_model(input_shape)\n",
    "\n",
    "model.compile(loss='categorical_crossentropy', optimizer=\"adam\", metrics=['accuracy'])\n",
    "model.load_weights(best_weight_path)\n",
    "\n",
    "loss, acc = model.evaluate_generator(\n",
    "    test_gen,\n",
    "    steps = test_num // batch_size)\n",
    "\n",
    "print(\"Best accuracy： \" + str(acc))"
   ]
  },
  {
   "cell_type": "code",
   "execution_count": null,
   "metadata": {},
   "outputs": [],
   "source": [
    "print(best_acc)"
   ]
  },
  {
   "cell_type": "code",
   "execution_count": null,
   "metadata": {
    "collapsed": true
   },
   "outputs": [],
   "source": []
  }
 ],
 "metadata": {
  "kernelspec": {
   "display_name": "Python 2",
   "language": "python",
   "name": "python2"
  },
  "language_info": {
   "codemirror_mode": {
    "name": "ipython",
    "version": 2
   },
   "file_extension": ".py",
   "mimetype": "text/x-python",
   "name": "python",
   "nbconvert_exporter": "python",
   "pygments_lexer": "ipython2",
   "version": "2.7.12"
  }
 },
 "nbformat": 4,
 "nbformat_minor": 1
}
