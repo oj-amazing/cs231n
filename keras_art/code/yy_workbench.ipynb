{
 "cells": [
  {
   "cell_type": "code",
   "execution_count": 3,
   "metadata": {},
   "outputs": [],
   "source": [
    "import numpy as np\n",
    "from keras.preprocessing.image import ImageDataGenerator\n",
    "from keras.models import Sequential\n",
    "from keras.layers import Dropout, Flatten, Dense\n",
    "from keras import applications\n",
    "\n",
    "# dimensions of our images.\n",
    "# img_width, img_height = 224, 224\n",
    "img_width, img_height = 500, 500\n",
    "\n",
    "pretrained_model = \"inceptionv3_500\"\n",
    "\n",
    "\n",
    "top_model_weights_path = '../model/bottleneck_fc_model_%s.h5'%pretrained_model\n",
    "# train_data_dir = '../data/Pandora18K_small_train_val_test_split/train'\n",
    "# validation_data_dir = '../data/Pandora18K_small_train_val_test_split/val'\n",
    "# test_data_dir = '../data/Pandora18K_small_train_val_test_split/test'\n",
    "# nb_train_samples = 1462\n",
    "# nb_validation_samples = 167\n",
    "# nb_test_samples = 171\n",
    "train_data_dir = '../data/Pandora18K_train_val_test_split/train'\n",
    "validation_data_dir = '../data/Pandora18K_train_val_test_split/val'\n",
    "test_data_dir = '../data/Pandora18K_train_val_test_split/test'\n",
    "nb_train_samples = 14313\n",
    "nb_validation_samples = 1772\n",
    "nb_test_samples = 1791\n",
    "\n",
    "epochs = 50\n",
    "batch_size = 64\n",
    "\n"
   ]
  },
  {
   "cell_type": "code",
   "execution_count": 4,
   "metadata": {
    "collapsed": true
   },
   "outputs": [],
   "source": [
    "datagen = ImageDataGenerator(rescale=1. / 255)\n",
    "# build the VGG16 network\n",
    "# model = applications.VGG16(include_top=False, weights='imagenet')\n",
    "model = applications.inception_v3.InceptionV3(include_top=False, weights='imagenet')"
   ]
  },
  {
   "cell_type": "code",
   "execution_count": null,
   "metadata": {},
   "outputs": [],
   "source": [
    "\n",
    "\n",
    "\n",
    "\n",
    "generator = datagen.flow_from_directory(\n",
    "    train_data_dir,\n",
    "    target_size=(img_width, img_height),\n",
    "    batch_size=batch_size,\n",
    "    class_mode='categorical',\n",
    "    shuffle=False)\n",
    "bottleneck_features_train = model.predict_generator(\n",
    "    generator, (nb_train_samples // batch_size)+1,verbose=1)\n",
    "\n",
    "\n",
    "\n",
    "\n",
    "\n",
    "\n"
   ]
  },
  {
   "cell_type": "code",
   "execution_count": null,
   "metadata": {},
   "outputs": [],
   "source": [
    "np.save(open('../model/bottleneck_features_train_%s.npy'%pretrained_model, 'w'),\n",
    "        bottleneck_features_train)"
   ]
  },
  {
   "cell_type": "code",
   "execution_count": null,
   "metadata": {},
   "outputs": [],
   "source": [
    "generator = datagen.flow_from_directory(\n",
    "    validation_data_dir,\n",
    "    target_size=(img_width, img_height),\n",
    "    batch_size=batch_size,\n",
    "    class_mode='categorical',\n",
    "    shuffle=False)\n",
    "bottleneck_features_validation = model.predict_generator(\n",
    "    generator, (nb_validation_samples // batch_size)+1,verbose=1)\n",
    "np.save(open('../model/bottleneck_features_validation_%s.npy'%pretrained_model, 'w'),\n",
    "        bottleneck_features_validation)\n",
    "\n",
    "\n",
    "\n",
    "\n",
    "generator = datagen.flow_from_directory(\n",
    "    test_data_dir,\n",
    "    target_size=(img_width, img_height),\n",
    "    batch_size=batch_size,\n",
    "    class_mode='categorical',\n",
    "    shuffle=False)\n",
    "bottleneck_features_test = model.predict_generator(\n",
    "    generator, (nb_test_samples // batch_size)+1,verbose=1)\n",
    "np.save(open('../model/bottleneck_features_test_%s.npy'%pretrained_model, 'w'),\n",
    "        bottleneck_features_test)"
   ]
  },
  {
   "cell_type": "code",
   "execution_count": 5,
   "metadata": {},
   "outputs": [],
   "source": [
    "from keras.utils.np_utils import to_categorical\n",
    "\n",
    "train_data = np.load(open('../model/bottleneck_features_train_%s.npy'%pretrained_model))\n",
    "#full\n",
    "train_labels = np.array([0]*684+[1]*598+[2]*655+[3]*657+[4]*808+[5]*675+[6]*715+[7]*946+[8]*995+[9]*1021+[10]*803+[11]*816+[12]*566+[13]*959+[14]*842+[15]*831+[16]*849+[17]*893)\n",
    "\n",
    "#small\n",
    "#train_labels = np.array([0]*78+[1]*79+[2]*77+[3]*85+[4]*78+[5]*87+[6]*80+[7]*81+[8]*81+[9]*80+[10]*85+[11]*83+[12]*74+[13]*87+[14]*83+[15]*83+[16]*78+[17]*83)\n",
    "\n",
    "train_labels = to_categorical(train_labels, num_classes=18)\n",
    "\n",
    "validation_data = np.load(open('../model/bottleneck_features_validation_%s.npy'%pretrained_model))\n",
    "#full\n",
    "validation_labels = np.array([0]*72+[1]*73+[2]*72+[3]*93+[4]*78+[5]*74+[6]*85+[7]*124+[8]*131+[9]*118+[10]*109+[11]*105+[12]*80+[13]*130+[14]*108+[15]*89+[16]*111+[17]*120)\n",
    "\n",
    "#small\n",
    "#validation_labels = np.array([0]*8+[1]*10+[2]*11+[3]*5+[4]*11+[5]*6+[6]*8+[7]*8+[8]*9+[9]*12+[10]*7+[11]*10+[12]*14+[13]*5+[14]*11+[15]*11+[16]*12+[17]*9)\n",
    "validation_labels = to_categorical(validation_labels, num_classes=18)\n",
    "\n",
    "test_data = np.load(open('../model/bottleneck_features_test_%s.npy'%pretrained_model))\n",
    "#full\n",
    "test_labels = np.array([0]*91+[1]*60+[2]*75+[3]*82+[4]*104+[5]*83+[6]*95+[7]*121+[8]*131+[9]*123+[10]*103+[11]*117+[12]*65+[13]*123+[14]*121+[15]*112+[16]*89+[17]*96)\n",
    "\n",
    "#small\n",
    "#test_labels = np.array([0]*14+[1]*11+[2]*12+[3]*10+[4]*11+[5]*7+[6]*12+[7]*11+[8]*10+[9]*8+[10]*8+[11]*7+[12]*12+[13]*8+[14]*6+[15]*6+[16]*10+[17]*8)\n",
    "test_labels = to_categorical(test_labels, num_classes=18)"
   ]
  },
  {
   "cell_type": "code",
   "execution_count": 6,
   "metadata": {},
   "outputs": [
    {
     "name": "stdout",
     "output_type": "stream",
     "text": [
      "Train on 14313 samples, validate on 1772 samples\n",
      "Epoch 1/50\n",
      "14313/14313 [==============================] - 74s - loss: 2.8293 - acc: 0.1079 - val_loss: 2.6428 - val_acc: 0.1749\n",
      "Epoch 2/50\n",
      "14313/14313 [==============================] - 73s - loss: 2.6462 - acc: 0.1444 - val_loss: 2.3619 - val_acc: 0.2540\n",
      "Epoch 3/50\n",
      "14313/14313 [==============================] - 73s - loss: 2.5294 - acc: 0.1640 - val_loss: 2.2881 - val_acc: 0.2754\n",
      "Epoch 4/50\n",
      "14313/14313 [==============================] - 73s - loss: 2.4061 - acc: 0.1930 - val_loss: 2.1115 - val_acc: 0.3239\n",
      "Epoch 5/50\n",
      "14313/14313 [==============================] - 74s - loss: 2.3325 - acc: 0.2071 - val_loss: 2.0815 - val_acc: 0.3347\n",
      "Epoch 6/50\n",
      "14313/14313 [==============================] - 74s - loss: 2.2614 - acc: 0.2211 - val_loss: 2.0238 - val_acc: 0.3736\n",
      "Epoch 7/50\n",
      "14313/14313 [==============================] - 73s - loss: 2.2239 - acc: 0.2315 - val_loss: 2.0264 - val_acc: 0.3623\n",
      "Epoch 8/50\n",
      "14313/14313 [==============================] - 73s - loss: 2.1750 - acc: 0.2412 - val_loss: 1.9134 - val_acc: 0.3973\n",
      "Epoch 9/50\n",
      "14313/14313 [==============================] - 74s - loss: 2.1444 - acc: 0.2503 - val_loss: 1.8447 - val_acc: 0.4018\n",
      "Epoch 10/50\n",
      "14313/14313 [==============================] - 74s - loss: 2.0985 - acc: 0.2549 - val_loss: 1.8749 - val_acc: 0.4024\n",
      "Epoch 11/50\n",
      "14313/14313 [==============================] - 73s - loss: 2.0350 - acc: 0.2714 - val_loss: 1.8456 - val_acc: 0.4199\n",
      "Epoch 12/50\n",
      "14313/14313 [==============================] - 74s - loss: 2.0230 - acc: 0.2725 - val_loss: 1.8093 - val_acc: 0.4266\n",
      "Epoch 13/50\n",
      "14313/14313 [==============================] - 73s - loss: 1.9845 - acc: 0.2906 - val_loss: 1.7676 - val_acc: 0.4249\n",
      "Epoch 14/50\n",
      "14313/14313 [==============================] - 74s - loss: 1.9533 - acc: 0.2972 - val_loss: 1.7552 - val_acc: 0.4470\n",
      "Epoch 15/50\n",
      "14313/14313 [==============================] - 74s - loss: 1.9291 - acc: 0.2997 - val_loss: 1.7429 - val_acc: 0.4385\n",
      "Epoch 16/50\n",
      "14313/14313 [==============================] - 74s - loss: 1.9111 - acc: 0.3039 - val_loss: 1.7231 - val_acc: 0.4413\n",
      "Epoch 17/50\n",
      "14313/14313 [==============================] - 75s - loss: 1.8908 - acc: 0.3058 - val_loss: 1.7482 - val_acc: 0.4391\n",
      "Epoch 18/50\n",
      "14313/14313 [==============================] - 74s - loss: 1.8599 - acc: 0.3182 - val_loss: 1.7103 - val_acc: 0.4532\n",
      "Epoch 19/50\n",
      "14313/14313 [==============================] - 74s - loss: 1.8396 - acc: 0.3233 - val_loss: 1.6829 - val_acc: 0.4605\n",
      "Epoch 20/50\n",
      "14313/14313 [==============================] - 75s - loss: 1.8186 - acc: 0.3316 - val_loss: 1.6877 - val_acc: 0.4498\n",
      "Epoch 21/50\n",
      "14313/14313 [==============================] - 76s - loss: 1.8081 - acc: 0.3349 - val_loss: 1.7009 - val_acc: 0.4554\n",
      "Epoch 22/50\n",
      "14313/14313 [==============================] - 74s - loss: 1.7799 - acc: 0.3413 - val_loss: 1.7299 - val_acc: 0.4515\n",
      "Epoch 23/50\n",
      "14313/14313 [==============================] - 75s - loss: 1.7559 - acc: 0.3492 - val_loss: 1.6874 - val_acc: 0.4481\n",
      "Epoch 24/50\n",
      "14313/14313 [==============================] - 75s - loss: 1.7255 - acc: 0.3560 - val_loss: 1.6597 - val_acc: 0.4740\n",
      "Epoch 25/50\n",
      "14313/14313 [==============================] - 77s - loss: 1.7168 - acc: 0.3639 - val_loss: 1.6593 - val_acc: 0.4701\n",
      "Epoch 26/50\n",
      "14313/14313 [==============================] - 76s - loss: 1.7195 - acc: 0.3624 - val_loss: 1.6550 - val_acc: 0.4639\n",
      "Epoch 27/50\n",
      "14313/14313 [==============================] - 76s - loss: 1.6923 - acc: 0.3643 - val_loss: 1.6630 - val_acc: 0.4786\n",
      "Epoch 28/50\n",
      "14313/14313 [==============================] - 75s - loss: 1.6689 - acc: 0.3722 - val_loss: 1.6607 - val_acc: 0.4887\n",
      "Epoch 29/50\n",
      "14313/14313 [==============================] - 76s - loss: 1.6781 - acc: 0.3709 - val_loss: 1.6885 - val_acc: 0.4650\n",
      "Epoch 30/50\n",
      "14313/14313 [==============================] - 77s - loss: 1.6502 - acc: 0.3821 - val_loss: 1.6628 - val_acc: 0.4904\n",
      "Epoch 31/50\n",
      "14313/14313 [==============================] - 75s - loss: 1.6271 - acc: 0.3875 - val_loss: 1.6692 - val_acc: 0.4701\n",
      "Epoch 32/50\n",
      "14313/14313 [==============================] - 77s - loss: 1.6134 - acc: 0.3845 - val_loss: 1.6659 - val_acc: 0.4712\n",
      "Epoch 33/50\n",
      "14313/14313 [==============================] - 76s - loss: 1.6077 - acc: 0.3903 - val_loss: 1.6234 - val_acc: 0.4887\n",
      "Epoch 34/50\n",
      "14313/14313 [==============================] - 77s - loss: 1.5827 - acc: 0.3982 - val_loss: 1.6627 - val_acc: 0.4944\n",
      "Epoch 35/50\n",
      "14313/14313 [==============================] - 76s - loss: 1.5699 - acc: 0.4020 - val_loss: 1.7069 - val_acc: 0.4752\n",
      "Epoch 36/50\n",
      "14313/14313 [==============================] - 75s - loss: 1.5823 - acc: 0.3980 - val_loss: 1.6656 - val_acc: 0.4791\n",
      "Epoch 37/50\n",
      "14313/14313 [==============================] - 74s - loss: 1.5453 - acc: 0.4134 - val_loss: 1.6567 - val_acc: 0.4887\n",
      "Epoch 38/50\n",
      "14313/14313 [==============================] - 74s - loss: 1.5340 - acc: 0.4144 - val_loss: 1.6458 - val_acc: 0.4915\n",
      "Epoch 39/50\n",
      "14313/14313 [==============================] - 74s - loss: 1.5257 - acc: 0.4167 - val_loss: 1.6770 - val_acc: 0.4887\n",
      "Epoch 40/50\n",
      "14313/14313 [==============================] - 75s - loss: 1.5215 - acc: 0.4137 - val_loss: 1.7109 - val_acc: 0.4757\n",
      "Epoch 41/50\n",
      "14313/14313 [==============================] - 74s - loss: 1.5137 - acc: 0.4173 - val_loss: 1.6744 - val_acc: 0.4752\n",
      "Epoch 42/50\n",
      "14313/14313 [==============================] - 76s - loss: 1.4964 - acc: 0.4268 - val_loss: 1.6964 - val_acc: 0.4763\n",
      "Epoch 43/50\n",
      "14313/14313 [==============================] - 75s - loss: 1.4783 - acc: 0.4297 - val_loss: 1.7500 - val_acc: 0.4701\n",
      "Epoch 44/50\n",
      "14313/14313 [==============================] - 74s - loss: 1.4769 - acc: 0.4278 - val_loss: 1.6794 - val_acc: 0.4842\n",
      "Epoch 45/50\n",
      "14313/14313 [==============================] - 74s - loss: 1.4884 - acc: 0.4248 - val_loss: 1.6935 - val_acc: 0.4904\n",
      "Epoch 46/50\n",
      "14313/14313 [==============================] - 75s - loss: 1.4747 - acc: 0.4338 - val_loss: 1.7151 - val_acc: 0.4836\n",
      "Epoch 47/50\n",
      "14313/14313 [==============================] - 76s - loss: 1.4543 - acc: 0.4411 - val_loss: 1.7257 - val_acc: 0.4915\n",
      "Epoch 48/50\n",
      "14313/14313 [==============================] - 74s - loss: 1.4572 - acc: 0.4386 - val_loss: 1.7018 - val_acc: 0.4814\n",
      "Epoch 49/50\n",
      "14313/14313 [==============================] - 76s - loss: 1.4462 - acc: 0.4389 - val_loss: 1.7263 - val_acc: 0.4814\n",
      "Epoch 50/50\n",
      "14313/14313 [==============================] - 74s - loss: 1.4395 - acc: 0.4407 - val_loss: 1.7407 - val_acc: 0.4791\n"
     ]
    },
    {
     "ename": "NameError",
     "evalue": "name 'top_model_weights_path' is not defined",
     "output_type": "error",
     "traceback": [
      "\u001b[0;31m---------------------------------------------------------------------------\u001b[0m",
      "\u001b[0;31mNameError\u001b[0m                                 Traceback (most recent call last)",
      "\u001b[0;32m<ipython-input-6-798ed60e101e>\u001b[0m in \u001b[0;36m<module>\u001b[0;34m()\u001b[0m\n\u001b[1;32m     14\u001b[0m           \u001b[0mbatch_size\u001b[0m\u001b[0;34m=\u001b[0m\u001b[0mbatch_size\u001b[0m\u001b[0;34m,\u001b[0m\u001b[0;34m\u001b[0m\u001b[0m\n\u001b[1;32m     15\u001b[0m           validation_data=(validation_data, validation_labels))\n\u001b[0;32m---> 16\u001b[0;31m \u001b[0mmodel\u001b[0m\u001b[0;34m.\u001b[0m\u001b[0msave_weights\u001b[0m\u001b[0;34m(\u001b[0m\u001b[0mtop_model_weights_path\u001b[0m\u001b[0;34m,\u001b[0m\u001b[0moverwrite\u001b[0m\u001b[0;34m=\u001b[0m\u001b[0mTrue\u001b[0m\u001b[0;34m)\u001b[0m\u001b[0;34m\u001b[0m\u001b[0m\n\u001b[0m",
      "\u001b[0;31mNameError\u001b[0m: name 'top_model_weights_path' is not defined"
     ]
    }
   ],
   "source": [
    "import keras\n",
    "model = Sequential()\n",
    "model.add(Flatten(input_shape=train_data.shape[1:]))\n",
    "model.add(Dropout(0.6))\n",
    "model.add(Dense(256, activation='relu'))\n",
    "model.add(Dropout(0.6))\n",
    "model.add(Dense(18, activation='softmax'))\n",
    "\n",
    "model.compile(optimizer=keras.optimizers.Adam(lr=0.0001, beta_1=0.9, beta_2=0.999, epsilon=1e-08, decay=0.0),\n",
    "              loss='categorical_crossentropy', metrics=['accuracy'])\n",
    "\n",
    "model.fit(train_data, train_labels,\n",
    "          epochs=epochs,\n",
    "          batch_size=batch_size,\n",
    "          validation_data=(validation_data, validation_labels))\n",
    "model.save_weights(top_model_weights_path,overwrite=True)"
   ]
  },
  {
   "cell_type": "code",
   "execution_count": 8,
   "metadata": {
    "collapsed": true
   },
   "outputs": [],
   "source": [
    "top_model_weights_path = '../model/bottleneck_fc_model_%s_val_acc_4791.h5'%pretrained_model\n",
    "model.save_weights(top_model_weights_path,overwrite=True)"
   ]
  },
  {
   "cell_type": "code",
   "execution_count": 9,
   "metadata": {},
   "outputs": [
    {
     "name": "stdout",
     "output_type": "stream",
     "text": [
      "1791/1791 [==============================] - 6s     \n"
     ]
    },
    {
     "data": {
      "text/plain": [
       "[1.6940838059255492, 0.48297040672824076]"
      ]
     },
     "execution_count": 9,
     "metadata": {},
     "output_type": "execute_result"
    }
   ],
   "source": [
    "model.evaluate(test_data, test_labels, batch_size=32, verbose=1, sample_weight=None)"
   ]
  },
  {
   "cell_type": "code",
   "execution_count": null,
   "metadata": {
    "collapsed": true
   },
   "outputs": [],
   "source": []
  }
 ],
 "metadata": {
  "kernelspec": {
   "display_name": "Python 2",
   "language": "python",
   "name": "python2"
  },
  "language_info": {
   "codemirror_mode": {
    "name": "ipython",
    "version": 2
   },
   "file_extension": ".py",
   "mimetype": "text/x-python",
   "name": "python",
   "nbconvert_exporter": "python",
   "pygments_lexer": "ipython2",
   "version": "2.7.12"
  }
 },
 "nbformat": 4,
 "nbformat_minor": 1
}
