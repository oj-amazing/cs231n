{
 "cells": [
  {
   "cell_type": "code",
   "execution_count": 5,
   "metadata": {
    "collapsed": false
   },
   "outputs": [
    {
     "data": {
      "text/plain": [
       "2"
      ]
     },
     "execution_count": 5,
     "metadata": {},
     "output_type": "execute_result"
    }
   ],
   "source": [
    "# As usual, a bit of setup\n",
    "import time, os, json\n",
    "import numpy as np\n",
    "import matplotlib.pyplot as plt\n",
    "import tensorflow as tf\n",
    "\n",
    "1 + 1"
   ]
  },
  {
   "cell_type": "code",
   "execution_count": 16,
   "metadata": {
    "collapsed": false
   },
   "outputs": [
    {
     "name": "stdout",
     "output_type": "stream",
     "text": [
      "Tensor(\"conv2d/Relu:0\", shape=(?, 496, 496, 32), dtype=float32)\n",
      "Tensor(\"Reshape:0\", shape=(?, 7872512), dtype=float32)\n"
     ]
    }
   ],
   "source": [
    "# clear old variables\n",
    "tf.reset_default_graph()\n",
    "\n",
    "# setup input (e.g. the data that changes every batch)\n",
    "# The first dim is None, and gets sets automatically based on batch size fed in\n",
    "X = tf.placeholder(tf.float32, [None, 500, 500, 3])\n",
    "y = tf.placeholder(tf.int64, [None])\n",
    "is_training = tf.placeholder(tf.bool)\n",
    "\n",
    "def style_model(img, y):\n",
    "    \"\"\"Generate class scores for img\n",
    "    \n",
    "    Inputs:\n",
    "    - img: Tensor of image [batch_size, 500, 500, 3]\n",
    "    - y: class [batch_size, 20]\n",
    "    \n",
    "    Returns:\n",
    "    Class scores [batch_size, 20].\n",
    "    \"\"\"\n",
    "    \n",
    "    dims = tf.shape(img)\n",
    "    batch_size = dims[0]\n",
    "    \n",
    "    conv1 = tf.layers.conv2d(\n",
    "        inputs=img,\n",
    "        filters=32,\n",
    "        kernel_size=[5, 5],\n",
    "        padding=\"valid\",\n",
    "        activation=tf.nn.relu)\n",
    "\n",
    "    print(conv1)\n",
    "    \n",
    "    flat = tf.reshape(conv1, [batch_size, 7872512]) #496 * 496 * 32\n",
    "    \n",
    "    print(flat)\n",
    "    \n",
    "    dense = tf.layers.dense(inputs=flat, units=20, activation=tf.nn.relu)\n",
    "\n",
    "    return dense\n",
    "\n",
    "y_out = style_model(X, y)\n",
    "\n",
    "# define our loss\n",
    "total_loss = tf.nn.sparse_softmax_cross_entropy_with_logits(labels=y, logits=y_out)\n",
    "mean_loss = tf.reduce_mean(total_loss)\n",
    "\n",
    "# define our optimizer\n",
    "optimizer = tf.train.AdamOptimizer(5e-4) # select optimizer and set learning rate\n",
    "train_step = optimizer.minimize(mean_loss)\n"
   ]
  },
  {
   "cell_type": "code",
   "execution_count": null,
   "metadata": {
    "collapsed": true
   },
   "outputs": [],
   "source": []
  }
 ],
 "metadata": {
  "kernelspec": {
   "display_name": "Python 3",
   "language": "python",
   "name": "python3"
  },
  "language_info": {
   "codemirror_mode": {
    "name": "ipython",
    "version": 3
   },
   "file_extension": ".py",
   "mimetype": "text/x-python",
   "name": "python",
   "nbconvert_exporter": "python",
   "pygments_lexer": "ipython3",
   "version": "3.5.2"
  }
 },
 "nbformat": 4,
 "nbformat_minor": 0
}
