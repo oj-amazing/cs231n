{
 "cells": [
  {
   "cell_type": "code",
   "execution_count": 43,
   "metadata": {
    "collapsed": false
   },
   "outputs": [],
   "source": [
    "# As usual, a bit of setup\n",
    "import time, os, json\n",
    "import numpy as np\n",
    "import matplotlib.pyplot as plt\n",
    "import tensorflow as tf\n",
    "from scipy.misc import imread\n",
    "from scipy.misc import imresize\n",
    "from PIL import Image\n",
    "import math\n",
    "import timeit\n",
    "import matplotlib.pyplot as plt\n",
    "%matplotlib inline"
   ]
  },
  {
   "cell_type": "code",
   "execution_count": 54,
   "metadata": {
    "collapsed": false
   },
   "outputs": [],
   "source": [
    "def load_Pandora18K(data_dir = '../dataset/Pandora_18k_flat_and_resized'):\n",
    "    \n",
    "    i = 0\n",
    "    X_data = []\n",
    "    Y_data = []\n",
    "    \n",
    "    for root, dirs, files in os.walk(data_dir):\n",
    "        path = root.split(os.sep)\n",
    "        for file in files:\n",
    "            if '.jpg' in str(file).lower(): # an image file\n",
    "                file_path = os.path.join(root,file)\n",
    "\n",
    "                # Get image\n",
    "                imagedata = imread(file_path)\n",
    "                assert imagedata.shape == (500, 500, 3)\n",
    "                X_data.append(imagedata)\n",
    "                \n",
    "                # Get class\n",
    "                correct_class = -1\n",
    "                if \"01_Byzantin_Iconography\" in root:\n",
    "                    correct_class = 1\n",
    "                elif \"02_Early_Renaissance\" in root:\n",
    "                    correct_class = 2\n",
    "                elif \"03_Northern_Renaissance\" in root:\n",
    "                    correct_class = 3\n",
    "                elif \"04_High_Renaissance\" in root:\n",
    "                    correct_class = 4\n",
    "                elif \"05_Baroque\" in root:\n",
    "                    correct_class = 5\n",
    "                elif \"06_Rococo\" in root:\n",
    "                    correct_class = 6\n",
    "                elif \"07_Romanticism\" in root:\n",
    "                    correct_class = 7\n",
    "                elif \"08_Realism\" in root:\n",
    "                    correct_class = 8\n",
    "                elif \"09_Impressionism\" in root:\n",
    "                    correct_class = 9\n",
    "                elif \"10_Post_Impressionism\" in root:\n",
    "                    correct_class = 10\n",
    "                elif \"11_Expressionism\" in root:\n",
    "                    correct_class = 11\n",
    "                elif \"12_Symbolism\" in root:\n",
    "                    correct_class = 12\n",
    "                elif \"13_Fauvism\" in root:\n",
    "                    correct_class = 13\n",
    "                elif \"14_Cubism\" in root:\n",
    "                    correct_class = 14\n",
    "                elif \"15_Surrealism\" in root:\n",
    "                    correct_class = 15\n",
    "                elif \"16_AbstractArt\" in root:\n",
    "                    correct_class = 16\n",
    "                elif \"17_NaiveArt\" in root:\n",
    "                    correct_class = 17\n",
    "                elif \"18_PopArt\" in root:\n",
    "                    correct_class = 18\n",
    "                \n",
    "                assert correct_class != -1\n",
    "                Y_data.append(correct_class)\n",
    "                \n",
    "                #print(str(root))\n",
    "                #print(str(file))\n",
    "                #print(imagedata.shape)\n",
    "                #print(\"\\n\")\n",
    "                \n",
    "                i = i + 1\n",
    "                \n",
    "                if i >= 30: #this should be all of them, do the shuffling and subsampling below\n",
    "                    X_data_arr = np.array(X_data)\n",
    "                    Y_data_arr = np.array(Y_data)\n",
    "                    return X_data_arr, Y_data_arr\n",
    "\n",
    "#examplex, exampley = load_Pandora18K()\n",
    "\n",
    "#print(examplex.shape)\n",
    "#print(exampley.shape)\n"
   ]
  },
  {
   "cell_type": "code",
   "execution_count": 55,
   "metadata": {
    "collapsed": false
   },
   "outputs": [
    {
     "name": "stdout",
     "output_type": "stream",
     "text": [
      "calling get_data()...\n",
      "Loading Pandora18k data...\n",
      "Shuffling Pandora18k data...\n",
      "X_data.shape\n",
      "(30, 500, 500, 3)\n",
      "Y_data.shape\n",
      "(30,)\n",
      "Subsampling training...\n",
      "Subsampling validation...\n",
      "Subsampling test...\n",
      "Train data shape:  (10, 500, 500, 3)\n",
      "Train labels shape:  (10,)\n",
      "Validation data shape:  (10, 500, 500, 3)\n",
      "Validation labels shape:  (10,)\n",
      "Test data shape:  (10, 500, 500, 3)\n",
      "Test labels shape:  (10,)\n"
     ]
    }
   ],
   "source": [
    "def unison_shuffled_copies(a, b):\n",
    "    assert len(a) == len(b)\n",
    "    p = np.random.permutation(len(a))\n",
    "    return a[p], b[p]\n",
    "\n",
    "#def get_data(num_training=8000, num_validation=1876, num_test=8000): #17876 images total\n",
    "def get_data(num_training=10, num_validation=10, num_test=10): #test with 300 images total\n",
    "    data_dir = '../dataset/Pandora_18k_flat_and_resized'\n",
    "    \n",
    "    print(\"Loading Pandora18k data...\")\n",
    "    X_data, Y_data = load_Pandora18K(data_dir)\n",
    "\n",
    "    #shuffle x and y data together\n",
    "    print(\"Shuffling Pandora18k data...\")\n",
    "    X_data, Y_data = unison_shuffled_copies(X_data, Y_data)\n",
    "    \n",
    "    print(\"X_data.shape\")\n",
    "    print(X_data.shape)\n",
    "    print(\"Y_data.shape\")\n",
    "    print(Y_data.shape)\n",
    "    \n",
    "    #training data subsample\n",
    "    print(\"Subsampling training...\")\n",
    "    mask = range(0, num_training)\n",
    "    X_train = X_data[mask]\n",
    "    y_train = Y_data[mask]\n",
    "    \n",
    "    #validation data subsample\n",
    "    print(\"Subsampling validation...\")\n",
    "    mask = range(num_training, num_training + num_validation)\n",
    "    X_val = X_data[mask]\n",
    "    y_val = Y_data[mask]\n",
    "    \n",
    "    #test data subsample\n",
    "    print(\"Subsampling test...\")\n",
    "    mask = range(num_training + num_validation, num_training + num_validation + num_test)\n",
    "    X_test = X_data[mask]\n",
    "    y_test = Y_data[mask]\n",
    "    \n",
    "    \"\"\"\n",
    "    mask = range(num_training, num_training + num_validation)\n",
    "    X_val = X_train[mask]\n",
    "    y_val = y_train[mask]\n",
    "    \n",
    "    mask = range(num_training)\n",
    "    X_train = X_train[mask]\n",
    "    y_train = y_train[mask]\n",
    "    \n",
    "    mask = range(num_test)\n",
    "    X_test = X_test[mask]\n",
    "    y_test = y_test[mask]\n",
    "    \"\"\"\n",
    "\n",
    "    return X_train, y_train, X_val, y_val, X_test, y_test\n",
    "\n",
    "# Invoke the above function to get our data.\n",
    "print(\"calling get_data()...\")\n",
    "X_train, y_train, X_val, y_val, X_test, y_test = get_data()\n",
    "\n",
    "print('Train data shape: ', X_train.shape)\n",
    "print('Train labels shape: ', y_train.shape)\n",
    "print('Validation data shape: ', X_val.shape)\n",
    "print('Validation labels shape: ', y_val.shape)\n",
    "print('Test data shape: ', X_test.shape)\n",
    "print('Test labels shape: ', y_test.shape)"
   ]
  },
  {
   "cell_type": "code",
   "execution_count": 57,
   "metadata": {
    "collapsed": false
   },
   "outputs": [],
   "source": [
    "# clear old variables\n",
    "tf.reset_default_graph()\n",
    "\n",
    "# setup input (e.g. the data that changes every batch)\n",
    "# The first dim is None, and gets sets automatically based on batch size fed in\n",
    "X = tf.placeholder(tf.float32, [None, 500, 500, 3])\n",
    "y = tf.placeholder(tf.int64, [None])\n",
    "is_training = tf.placeholder(tf.bool)\n",
    "\n",
    "def style_model(img, y):\n",
    "    \"\"\"Generate class scores for img\n",
    "    \n",
    "    Inputs:\n",
    "    - img: Tensor of image [batch_size, 500, 500, 3]\n",
    "    - y: class [batch_size, 18]\n",
    "    \n",
    "    Returns:\n",
    "    Class scores [batch_size, 18].\n",
    "    \"\"\"\n",
    "    \n",
    "    dims = tf.shape(img)\n",
    "    batch_size = dims[0]\n",
    "    \n",
    "    conv1 = tf.layers.conv2d(\n",
    "        inputs=img,\n",
    "        filters=32,\n",
    "        kernel_size=[5, 5],\n",
    "        padding=\"valid\",\n",
    "        activation=tf.nn.relu)\n",
    "\n",
    "    #print(conv1)\n",
    "    \n",
    "    flat = tf.reshape(conv1, [batch_size, 7872512]) #496 * 496 * 32\n",
    "    \n",
    "    #print(flat)\n",
    "    \n",
    "    dense = tf.layers.dense(inputs=flat, units=18, activation=tf.nn.relu)\n",
    "\n",
    "    return dense\n",
    "\n",
    "y_out = style_model(X, y)\n",
    "\n",
    "# define our loss\n",
    "total_loss = tf.nn.sparse_softmax_cross_entropy_with_logits(labels=y, logits=y_out)\n",
    "mean_loss = tf.reduce_mean(total_loss)\n",
    "\n",
    "# define our optimizer\n",
    "optimizer = tf.train.AdamOptimizer(5e-4) # select optimizer and set learning rate\n",
    "train_step = optimizer.minimize(mean_loss)\n"
   ]
  },
  {
   "cell_type": "code",
   "execution_count": 58,
   "metadata": {
    "collapsed": false
   },
   "outputs": [
    {
     "name": "stdout",
     "output_type": "stream",
     "text": [
      "Training\n",
      "Iteration 0: with minibatch training loss = 83.5 and accuracy of 0\n",
      "Epoch 1, Overall loss = 83.5 and accuracy of 0\n"
     ]
    },
    {
     "data": {
      "image/png": "[encoded data removed]",
      "text/plain": [
       "<matplotlib.figure.Figure at 0x7f0281556898>"
      ]
     },
     "metadata": {},
     "output_type": "display_data"
    },
    {
     "name": "stdout",
     "output_type": "stream",
     "text": [
      "Epoch 2, Overall loss = 0 and accuracy of 1\n"
     ]
    },
    {
     "data": {
      "image/png": "[encoded data removed]",
      "text/plain": [
       "<matplotlib.figure.Figure at 0x7f02761b2898>"
      ]
     },
     "metadata": {},
     "output_type": "display_data"
    },
    {
     "name": "stdout",
     "output_type": "stream",
     "text": [
      "Epoch 3, Overall loss = 0 and accuracy of 1\n"
     ]
    },
    {
     "data": {
      "image/png": "[encoded data removed]",
      "text/plain": [
       "<matplotlib.figure.Figure at 0x7f02761ba240>"
      ]
     },
     "metadata": {},
     "output_type": "display_data"
    },
    {
     "name": "stdout",
     "output_type": "stream",
     "text": [
      "Validation\n",
      "Epoch 1, Overall loss = 0 and accuracy of 1\n"
     ]
    }
   ],
   "source": [
    "def run_model(session, predict, loss_val, Xd, yd,\n",
    "              epochs, batch_size, print_every=100,\n",
    "              training=None, plot_losses=False):\n",
    "    # have tensorflow compute accuracy\n",
    "    correct_prediction = tf.equal(tf.argmax(predict,1), y)\n",
    "    accuracy = tf.reduce_mean(tf.cast(correct_prediction, tf.float32))\n",
    "    \n",
    "    # shuffle indicies\n",
    "    train_indicies = np.arange(Xd.shape[0])\n",
    "    np.random.shuffle(train_indicies)\n",
    "\n",
    "    training_now = training is not None\n",
    "    \n",
    "    # setting up variables we want to compute (and optimizing)\n",
    "    # if we have a training function, add that to things we compute\n",
    "    variables = [mean_loss,correct_prediction,accuracy]\n",
    "    if training_now:\n",
    "        variables[-1] = training\n",
    "    \n",
    "    # counter \n",
    "    iter_cnt = 0\n",
    "    for e in range(epochs):\n",
    "        # keep track of losses and accuracy\n",
    "        correct = 0\n",
    "        losses = []\n",
    "        # make sure we iterate over the dataset once\n",
    "        for i in range(int(math.ceil(Xd.shape[0]/batch_size))):\n",
    "            # generate indicies for the batch\n",
    "            start_idx = (i*batch_size)%X_train.shape[0]\n",
    "            idx = train_indicies[start_idx:start_idx+batch_size]\n",
    "            \n",
    "            # create a feed dictionary for this batch\n",
    "            feed_dict = {X: Xd[idx,:],\n",
    "                         y: yd[idx],\n",
    "                         is_training: training_now }\n",
    "            # get batch size\n",
    "            actual_batch_size = yd[i:i+batch_size].shape[0]\n",
    "            \n",
    "            # have tensorflow compute loss and correct predictions\n",
    "            # and (if given) perform a training step\n",
    "            loss, corr, _ = session.run(variables,feed_dict=feed_dict)\n",
    "            \n",
    "            # aggregate performance stats\n",
    "            losses.append(loss*actual_batch_size)\n",
    "            correct += np.sum(corr)\n",
    "            \n",
    "            # print every now and then\n",
    "            if training_now and (iter_cnt % print_every) == 0:\n",
    "                print(\"Iteration {0}: with minibatch training loss = {1:.3g} and accuracy of {2:.2g}\"\\\n",
    "                      .format(iter_cnt,loss,np.sum(corr)/actual_batch_size))\n",
    "            iter_cnt += 1\n",
    "        total_correct = correct/Xd.shape[0]\n",
    "        total_loss = np.sum(losses)/Xd.shape[0]\n",
    "        print(\"Epoch {2}, Overall loss = {0:.3g} and accuracy of {1:.3g}\"\\\n",
    "              .format(total_loss,total_correct,e+1))\n",
    "        if plot_losses:\n",
    "            plt.plot(losses)\n",
    "            plt.grid(True)\n",
    "            plt.title('Epoch {} Loss'.format(e+1))\n",
    "            plt.xlabel('minibatch number')\n",
    "            plt.ylabel('minibatch loss')\n",
    "            plt.show()\n",
    "    return total_loss,total_correct\n",
    "\n",
    "batch_size = 16\n",
    "train_num_epochs = 3\n",
    "\n",
    "with tf.Session() as sess:\n",
    "    with tf.device(\"/gpu:0\"): #\"/cpu:0\" or \"/gpu:0\" \n",
    "        sess.run(tf.global_variables_initializer())\n",
    "        print('Training')\n",
    "        run_model(sess,y_out,mean_loss,X_train,y_train,train_num_epochs,my_batch_size,100,train_step,True)\n",
    "        print('Validation')\n",
    "        run_model(sess,y_out,mean_loss,X_val,y_val,1,my_batch_size)\n",
    "        print('Test')\n",
    "        run_model(sess,y_out,mean_loss,X_test,y_test,1,my_batch_size)"
   ]
  },
  {
   "cell_type": "code",
   "execution_count": null,
   "metadata": {
    "collapsed": true
   },
   "outputs": [],
   "source": []
  }
 ],
 "metadata": {
  "kernelspec": {
   "display_name": "Python 3",
   "language": "python",
   "name": "python3"
  },
  "language_info": {
   "codemirror_mode": {
    "name": "ipython",
    "version": 3
   },
   "file_extension": ".py",
   "mimetype": "text/x-python",
   "name": "python",
   "nbconvert_exporter": "python",
   "pygments_lexer": "ipython3",
   "version": "3.5.2"
  }
 },
 "nbformat": 4,
 "nbformat_minor": 0
}
